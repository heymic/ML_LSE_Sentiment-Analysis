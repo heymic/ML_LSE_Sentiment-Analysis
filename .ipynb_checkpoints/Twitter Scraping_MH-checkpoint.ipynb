{
 "cells": [
  {
   "cell_type": "code",
   "execution_count": 30,
   "metadata": {
    "scrolled": true
   },
   "outputs": [],
   "source": [
    "#!pip install tweepy\n",
    "#!pip install textblob"
   ]
  },
  {
   "cell_type": "code",
   "execution_count": 1,
   "metadata": {},
   "outputs": [],
   "source": [
    "import pandas as pd\n",
    "import numpy as np\n",
    "import tweepy\n",
    "import json\n",
    "import matplotlib.pyplot as plt"
   ]
  },
  {
   "cell_type": "code",
   "execution_count": 2,
   "metadata": {},
   "outputs": [],
   "source": [
    "from tweepy import OAuthHandler\n",
    " \n",
    "consumer_key = 'OWea1JDj2RMgv9ktXcKkM3CRI'\n",
    "consumer_secret = 'zolroSpEUpqFrTABaVHttXDYrKAIWBBGPpFjXZ5j4r201obVWq'\n",
    "access_token = '927171157018759173-tqtWOcZMkWsnCvUToWsR3W0qSp64jwm'\n",
    "access_secret = 'qMvXFuUpsnZD3b2TB1O49aGLSU6p607hDBnzkaYCdJWxR'\n",
    " \n",
    "auth = OAuthHandler(consumer_key, consumer_secret)\n",
    "auth.set_access_token(access_token, access_secret)\n",
    " \n",
    "api = tweepy.API(auth)"
   ]
  },
  {
   "cell_type": "code",
   "execution_count": 3,
   "metadata": {},
   "outputs": [
    {
     "ename": "ModuleNotFoundError",
     "evalue": "No module named 'credentials'",
     "output_type": "error",
     "traceback": [
      "\u001b[1;31m---------------------------------------------------------------------------\u001b[0m",
      "\u001b[1;31mModuleNotFoundError\u001b[0m                       Traceback (most recent call last)",
      "\u001b[1;32m<ipython-input-3-4df30e08c7c0>\u001b[0m in \u001b[0;36m<module>\u001b[1;34m()\u001b[0m\n\u001b[0;32m      1\u001b[0m \u001b[1;31m# We import our access keys:\u001b[0m\u001b[1;33m\u001b[0m\u001b[1;33m\u001b[0m\u001b[0m\n\u001b[1;32m----> 2\u001b[1;33m \u001b[1;32mfrom\u001b[0m \u001b[0mcredentials\u001b[0m \u001b[1;32mimport\u001b[0m \u001b[1;33m*\u001b[0m    \u001b[1;31m# This will allow us to use the keys as variables\u001b[0m\u001b[1;33m\u001b[0m\u001b[0m\n\u001b[0m\u001b[0;32m      3\u001b[0m \u001b[1;33m\u001b[0m\u001b[0m\n\u001b[0;32m      4\u001b[0m \u001b[1;31m# API's setup:\u001b[0m\u001b[1;33m\u001b[0m\u001b[1;33m\u001b[0m\u001b[0m\n\u001b[0;32m      5\u001b[0m \u001b[1;32mdef\u001b[0m \u001b[0mtwitter_setup\u001b[0m\u001b[1;33m(\u001b[0m\u001b[1;33m)\u001b[0m\u001b[1;33m:\u001b[0m\u001b[1;33m\u001b[0m\u001b[0m\n",
      "\u001b[1;31mModuleNotFoundError\u001b[0m: No module named 'credentials'"
     ]
    }
   ],
   "source": [
    "# We import our access keys:\n",
    "from credentials import *    # This will allow us to use the keys as variables\n",
    "\n",
    "# API's setup:\n",
    "def twitter_setup():\n",
    "    \"\"\"\n",
    "    Utility function to setup the Twitter's API\n",
    "    with our access keys provided.\n",
    "    \"\"\"\n",
    "    # Authentication and access using keys:\n",
    "    auth = tweepy.OAuthHandler(CONSUMER_KEY, CONSUMER_SECRET)\n",
    "    auth.set_access_token(ACCESS_TOKEN, ACCESS_SECRET)\n",
    "\n",
    "    # Return API with authentication:\n",
    "    api = tweepy.API(auth)\n",
    "    return api"
   ]
  },
  {
   "cell_type": "code",
   "execution_count": null,
   "metadata": {},
   "outputs": [],
   "source": [
    "extractor = api\n",
    "\n",
    "\n",
    "# We create a tweet list as follows:\n",
    "tweets = extractor.user_timeline(screen_name=\"realDonaldTrump\", count=200)\n",
    "print(\"Number of tweets extracted: {}.\\n\".format(len(tweets)))\n",
    "\n",
    "# We print the most recent 5 tweets:\n",
    "print(\"5 recent tweets:\\n\")\n",
    "for tweet in tweets[:5]:\n",
    "    print(tweet.text)\n",
    "    print()"
   ]
  },
  {
   "cell_type": "code",
   "execution_count": 4,
   "metadata": {},
   "outputs": [
    {
     "ename": "NameError",
     "evalue": "name 'tweets' is not defined",
     "output_type": "error",
     "traceback": [
      "\u001b[1;31m---------------------------------------------------------------------------\u001b[0m",
      "\u001b[1;31mNameError\u001b[0m                                 Traceback (most recent call last)",
      "\u001b[1;32m<ipython-input-4-37061b040148>\u001b[0m in \u001b[0;36m<module>\u001b[1;34m()\u001b[0m\n\u001b[1;32m----> 1\u001b[1;33m \u001b[0mdata\u001b[0m \u001b[1;33m=\u001b[0m \u001b[0mpd\u001b[0m\u001b[1;33m.\u001b[0m\u001b[0mDataFrame\u001b[0m\u001b[1;33m(\u001b[0m\u001b[0mdata\u001b[0m\u001b[1;33m=\u001b[0m\u001b[1;33m[\u001b[0m\u001b[0mtweet\u001b[0m\u001b[1;33m.\u001b[0m\u001b[0mtext\u001b[0m \u001b[1;32mfor\u001b[0m \u001b[0mtweet\u001b[0m \u001b[1;32min\u001b[0m \u001b[0mtweets\u001b[0m\u001b[1;33m]\u001b[0m\u001b[1;33m,\u001b[0m \u001b[0mcolumns\u001b[0m\u001b[1;33m=\u001b[0m\u001b[1;33m[\u001b[0m\u001b[1;34m'Tweets'\u001b[0m\u001b[1;33m]\u001b[0m\u001b[1;33m)\u001b[0m\u001b[1;33m\u001b[0m\u001b[0m\n\u001b[0m",
      "\u001b[1;31mNameError\u001b[0m: name 'tweets' is not defined"
     ]
    }
   ],
   "source": [
    "data = pd.DataFrame(data=[tweet.text for tweet in tweets], columns=['Tweets'])\n"
   ]
  },
  {
   "cell_type": "code",
   "execution_count": 13,
   "metadata": {},
   "outputs": [
    {
     "data": {
      "text/html": [
       "<div>\n",
       "<style>\n",
       "    .dataframe thead tr:only-child th {\n",
       "        text-align: right;\n",
       "    }\n",
       "\n",
       "    .dataframe thead th {\n",
       "        text-align: left;\n",
       "    }\n",
       "\n",
       "    .dataframe tbody tr th {\n",
       "        vertical-align: top;\n",
       "    }\n",
       "</style>\n",
       "<table border=\"1\" class=\"dataframe\">\n",
       "  <thead>\n",
       "    <tr style=\"text-align: right;\">\n",
       "      <th></th>\n",
       "      <th>Tweets</th>\n",
       "    </tr>\n",
       "  </thead>\n",
       "  <tbody>\n",
       "    <tr>\n",
       "      <th>0</th>\n",
       "      <td>Join me live for the #SOTU\\nhttps://t.co/0SLkt...</td>\n",
       "    </tr>\n",
       "    <tr>\n",
       "      <th>1</th>\n",
       "      <td>Congratulations to America’s new Secretary of ...</td>\n",
       "    </tr>\n",
       "    <tr>\n",
       "      <th>2</th>\n",
       "      <td>Our economy is better than it has been in many...</td>\n",
       "    </tr>\n",
       "    <tr>\n",
       "      <th>3</th>\n",
       "      <td>Somebody please inform Jay-Z that because of m...</td>\n",
       "    </tr>\n",
       "    <tr>\n",
       "      <th>4</th>\n",
       "      <td>Democrats are not interested in Border Safety ...</td>\n",
       "    </tr>\n",
       "  </tbody>\n",
       "</table>\n",
       "</div>"
      ],
      "text/plain": [
       "                                              Tweets\n",
       "0  Join me live for the #SOTU\\nhttps://t.co/0SLkt...\n",
       "1  Congratulations to America’s new Secretary of ...\n",
       "2  Our economy is better than it has been in many...\n",
       "3  Somebody please inform Jay-Z that because of m...\n",
       "4  Democrats are not interested in Border Safety ..."
      ]
     },
     "execution_count": 13,
     "metadata": {},
     "output_type": "execute_result"
    }
   ],
   "source": [
    "data.head()"
   ]
  },
  {
   "cell_type": "code",
   "execution_count": 14,
   "metadata": {},
   "outputs": [
    {
     "name": "stdout",
     "output_type": "stream",
     "text": [
      "['__class__', '__delattr__', '__dict__', '__dir__', '__doc__', '__eq__', '__format__', '__ge__', '__getattribute__', '__getstate__', '__gt__', '__hash__', '__init__', '__init_subclass__', '__le__', '__lt__', '__module__', '__ne__', '__new__', '__reduce__', '__reduce_ex__', '__repr__', '__setattr__', '__sizeof__', '__str__', '__subclasshook__', '__weakref__', '_api', '_json', 'author', 'contributors', 'coordinates', 'created_at', 'destroy', 'entities', 'favorite', 'favorite_count', 'favorited', 'geo', 'id', 'id_str', 'in_reply_to_screen_name', 'in_reply_to_status_id', 'in_reply_to_status_id_str', 'in_reply_to_user_id', 'in_reply_to_user_id_str', 'is_quote_status', 'lang', 'parse', 'parse_list', 'place', 'possibly_sensitive', 'retweet', 'retweet_count', 'retweeted', 'retweets', 'source', 'source_url', 'text', 'truncated', 'user']\n"
     ]
    }
   ],
   "source": [
    "print(dir(tweets[0]))\n"
   ]
  },
  {
   "cell_type": "code",
   "execution_count": 15,
   "metadata": {},
   "outputs": [
    {
     "name": "stdout",
     "output_type": "stream",
     "text": [
      "958520216429957121\n",
      "2018-01-31 02:00:02\n",
      "Twitter for iPhone\n",
      "67326\n",
      "15522\n",
      "None\n",
      "None\n",
      "{'hashtags': [{'text': 'SOTU', 'indices': [21, 26]}], 'symbols': [], 'user_mentions': [], 'urls': [{'url': 'https://t.co/0SLktWxfHi', 'expanded_url': 'https://live.twitter.com/whitehouse', 'display_url': 'live.twitter.com/whitehouse', 'indices': [27, 50]}]}\n"
     ]
    }
   ],
   "source": [
    "print(tweets[0].id)\n",
    "print(tweets[0].created_at)\n",
    "print(tweets[0].source)\n",
    "print(tweets[0].favorite_count)\n",
    "print(tweets[0].retweet_count)\n",
    "print(tweets[0].geo)\n",
    "print(tweets[0].coordinates)\n",
    "print(tweets[0].entities)"
   ]
  },
  {
   "cell_type": "code",
   "execution_count": 18,
   "metadata": {},
   "outputs": [],
   "source": [
    "data['len']  = np.array([len(tweet.text) for tweet in tweets])\n",
    "data['ID']   = np.array([tweet.id for tweet in tweets])\n",
    "data['Date'] = np.array([tweet.created_at for tweet in tweets])\n",
    "data['Source'] = np.array([tweet.source for tweet in tweets])\n",
    "data['Likes']  = np.array([tweet.favorite_count for tweet in tweets])\n",
    "data['RTs']    = np.array([tweet.retweet_count for tweet in tweets])"
   ]
  },
  {
   "cell_type": "code",
   "execution_count": 19,
   "metadata": {},
   "outputs": [
    {
     "data": {
      "text/html": [
       "<div>\n",
       "<style>\n",
       "    .dataframe thead tr:only-child th {\n",
       "        text-align: right;\n",
       "    }\n",
       "\n",
       "    .dataframe thead th {\n",
       "        text-align: left;\n",
       "    }\n",
       "\n",
       "    .dataframe tbody tr th {\n",
       "        vertical-align: top;\n",
       "    }\n",
       "</style>\n",
       "<table border=\"1\" class=\"dataframe\">\n",
       "  <thead>\n",
       "    <tr style=\"text-align: right;\">\n",
       "      <th></th>\n",
       "      <th>Tweets</th>\n",
       "      <th>len</th>\n",
       "      <th>ID</th>\n",
       "      <th>Date</th>\n",
       "      <th>Source</th>\n",
       "      <th>Likes</th>\n",
       "      <th>RTs</th>\n",
       "    </tr>\n",
       "  </thead>\n",
       "  <tbody>\n",
       "    <tr>\n",
       "      <th>0</th>\n",
       "      <td>Join me live for the #SOTU\\nhttps://t.co/0SLkt...</td>\n",
       "      <td>50</td>\n",
       "      <td>958520216429957121</td>\n",
       "      <td>2018-01-31 02:00:02</td>\n",
       "      <td>Twitter for iPhone</td>\n",
       "      <td>67326</td>\n",
       "      <td>15522</td>\n",
       "    </tr>\n",
       "    <tr>\n",
       "      <th>1</th>\n",
       "      <td>Congratulations to America’s new Secretary of ...</td>\n",
       "      <td>89</td>\n",
       "      <td>958070403901124609</td>\n",
       "      <td>2018-01-29 20:12:39</td>\n",
       "      <td>Twitter for iPhone</td>\n",
       "      <td>71801</td>\n",
       "      <td>14168</td>\n",
       "    </tr>\n",
       "    <tr>\n",
       "      <th>2</th>\n",
       "      <td>Our economy is better than it has been in many...</td>\n",
       "      <td>140</td>\n",
       "      <td>957603804383465472</td>\n",
       "      <td>2018-01-28 13:18:33</td>\n",
       "      <td>Twitter for iPhone</td>\n",
       "      <td>185377</td>\n",
       "      <td>39965</td>\n",
       "    </tr>\n",
       "    <tr>\n",
       "      <th>3</th>\n",
       "      <td>Somebody please inform Jay-Z that because of m...</td>\n",
       "      <td>139</td>\n",
       "      <td>957603800579297280</td>\n",
       "      <td>2018-01-28 13:18:32</td>\n",
       "      <td>Twitter for iPhone</td>\n",
       "      <td>228595</td>\n",
       "      <td>62433</td>\n",
       "    </tr>\n",
       "    <tr>\n",
       "      <th>4</th>\n",
       "      <td>Democrats are not interested in Border Safety ...</td>\n",
       "      <td>144</td>\n",
       "      <td>957465263129219073</td>\n",
       "      <td>2018-01-28 04:08:02</td>\n",
       "      <td>Twitter for iPhone</td>\n",
       "      <td>147433</td>\n",
       "      <td>34401</td>\n",
       "    </tr>\n",
       "  </tbody>\n",
       "</table>\n",
       "</div>"
      ],
      "text/plain": [
       "                                              Tweets  len                  ID  \\\n",
       "0  Join me live for the #SOTU\\nhttps://t.co/0SLkt...   50  958520216429957121   \n",
       "1  Congratulations to America’s new Secretary of ...   89  958070403901124609   \n",
       "2  Our economy is better than it has been in many...  140  957603804383465472   \n",
       "3  Somebody please inform Jay-Z that because of m...  139  957603800579297280   \n",
       "4  Democrats are not interested in Border Safety ...  144  957465263129219073   \n",
       "\n",
       "                 Date              Source   Likes    RTs  \n",
       "0 2018-01-31 02:00:02  Twitter for iPhone   67326  15522  \n",
       "1 2018-01-29 20:12:39  Twitter for iPhone   71801  14168  \n",
       "2 2018-01-28 13:18:33  Twitter for iPhone  185377  39965  \n",
       "3 2018-01-28 13:18:32  Twitter for iPhone  228595  62433  \n",
       "4 2018-01-28 04:08:02  Twitter for iPhone  147433  34401  "
      ]
     },
     "execution_count": 19,
     "metadata": {},
     "output_type": "execute_result"
    }
   ],
   "source": [
    "data.head()"
   ]
  },
  {
   "cell_type": "code",
   "execution_count": 20,
   "metadata": {},
   "outputs": [
    {
     "name": "stdout",
     "output_type": "stream",
     "text": [
      "The lenght's average in tweets: 128.94\n"
     ]
    }
   ],
   "source": [
    "mean = np.mean(data['len'])\n",
    "\n",
    "print(\"The lenght's average in tweets: {}\".format(mean))"
   ]
  },
  {
   "cell_type": "code",
   "execution_count": 21,
   "metadata": {},
   "outputs": [
    {
     "name": "stdout",
     "output_type": "stream",
     "text": [
      "The tweet with more likes is: \n",
      "North Korean Leader Kim Jong Un just stated that the “Nuclear Button is on his desk at all times.” Will someone fro… https://t.co/EvTgZxiji0\n",
      "Number of likes: 501096\n",
      "140 characters.\n",
      "\n",
      "The tweet with more retweets is: \n",
      "North Korean Leader Kim Jong Un just stated that the “Nuclear Button is on his desk at all times.” Will someone fro… https://t.co/EvTgZxiji0\n",
      "Number of retweets: 193405\n",
      "140 characters.\n",
      "\n"
     ]
    }
   ],
   "source": [
    "# We extract the tweet with more FAVs and more RTs:\n",
    "\n",
    "fav_max = np.max(data['Likes'])\n",
    "rt_max  = np.max(data['RTs'])\n",
    "\n",
    "fav = data[data.Likes == fav_max].index[0]\n",
    "rt  = data[data.RTs == rt_max].index[0]\n",
    "\n",
    "# Max FAVs:\n",
    "print(\"The tweet with more likes is: \\n{}\".format(data['Tweets'][fav]))\n",
    "print(\"Number of likes: {}\".format(fav_max))\n",
    "print(\"{} characters.\\n\".format(data['len'][fav]))\n",
    "\n",
    "# Max RTs:\n",
    "print(\"The tweet with more retweets is: \\n{}\".format(data['Tweets'][rt]))\n",
    "print(\"Number of retweets: {}\".format(rt_max))\n",
    "print(\"{} characters.\\n\".format(data['len'][rt]))"
   ]
  },
  {
   "cell_type": "code",
   "execution_count": 22,
   "metadata": {
    "collapsed": true
   },
   "outputs": [],
   "source": [
    "# We create time series for data:\n",
    "\n",
    "tlen = pd.Series(data=data['len'].values, index=data['Date'])\n",
    "tfav = pd.Series(data=data['Likes'].values, index=data['Date'])\n",
    "tret = pd.Series(data=data['RTs'].values, index=data['Date'])"
   ]
  },
  {
   "cell_type": "code",
   "execution_count": 25,
   "metadata": {},
   "outputs": [
    {
     "data": {
      "image/png": "[encoded data removed]",
      "text/plain": [
       "<matplotlib.figure.Figure at 0x227be6aff98>"
      ]
     },
     "metadata": {},
     "output_type": "display_data"
    }
   ],
   "source": [
    "tlen.plot(figsize=(16,4), color='r');\n",
    "plt.show()"
   ]
  },
  {
   "cell_type": "code",
   "execution_count": 27,
   "metadata": {},
   "outputs": [
    {
     "data": {
      "image/png": "[encoded data removed]",
      "text/plain": [
       "<matplotlib.figure.Figure at 0x227beb6e048>"
      ]
     },
     "metadata": {},
     "output_type": "display_data"
    }
   ],
   "source": [
    "# Likes vs retweets visualization:\n",
    "tfav.plot(figsize=(16,4), label=\"Likes\", legend=True)\n",
    "tret.plot(figsize=(16,4), label=\"Retweets\", legend=True);\n",
    "plt.show()"
   ]
  },
  {
   "cell_type": "code",
   "execution_count": 33,
   "metadata": {},
   "outputs": [],
   "source": [
    "from textblob import TextBlob\n",
    "import re\n",
    "\n",
    "def clean_tweet(tweet):\n",
    "    '''\n",
    "    Utility function to clean the text in a tweet by removing \n",
    "    links and special characters using regex.\n",
    "    '''\n",
    "    return ' '.join(re.sub(\"(@[A-Za-z0-9]+)|([^0-9A-Za-z \\t])|(\\w+:\\/\\/\\S+)\", \" \", tweet).split())\n",
    "\n",
    "def analize_sentiment(tweet):\n",
    "    '''\n",
    "    Utility function to classify the polarity of a tweet\n",
    "    using textblob.\n",
    "    '''\n",
    "    analysis = TextBlob(clean_tweet(tweet))\n",
    "    return analysis.sentiment.polarity"
   ]
  },
  {
   "cell_type": "code",
   "execution_count": 34,
   "metadata": {
    "scrolled": true
   },
   "outputs": [
    {
     "data": {
      "text/html": [
       "<div>\n",
       "<style>\n",
       "    .dataframe thead tr:only-child th {\n",
       "        text-align: right;\n",
       "    }\n",
       "\n",
       "    .dataframe thead th {\n",
       "        text-align: left;\n",
       "    }\n",
       "\n",
       "    .dataframe tbody tr th {\n",
       "        vertical-align: top;\n",
       "    }\n",
       "</style>\n",
       "<table border=\"1\" class=\"dataframe\">\n",
       "  <thead>\n",
       "    <tr style=\"text-align: right;\">\n",
       "      <th></th>\n",
       "      <th>Tweets</th>\n",
       "      <th>len</th>\n",
       "      <th>ID</th>\n",
       "      <th>Date</th>\n",
       "      <th>Source</th>\n",
       "      <th>Likes</th>\n",
       "      <th>RTs</th>\n",
       "      <th>SA</th>\n",
       "    </tr>\n",
       "  </thead>\n",
       "  <tbody>\n",
       "    <tr>\n",
       "      <th>0</th>\n",
       "      <td>Join me live for the #SOTU\\nhttps://t.co/0SLkt...</td>\n",
       "      <td>50</td>\n",
       "      <td>958520216429957121</td>\n",
       "      <td>2018-01-31 02:00:02</td>\n",
       "      <td>Twitter for iPhone</td>\n",
       "      <td>67326</td>\n",
       "      <td>15522</td>\n",
       "      <td>0.136364</td>\n",
       "    </tr>\n",
       "    <tr>\n",
       "      <th>1</th>\n",
       "      <td>Congratulations to America’s new Secretary of ...</td>\n",
       "      <td>89</td>\n",
       "      <td>958070403901124609</td>\n",
       "      <td>2018-01-29 20:12:39</td>\n",
       "      <td>Twitter for iPhone</td>\n",
       "      <td>71801</td>\n",
       "      <td>14168</td>\n",
       "      <td>0.136364</td>\n",
       "    </tr>\n",
       "    <tr>\n",
       "      <th>2</th>\n",
       "      <td>Our economy is better than it has been in many...</td>\n",
       "      <td>140</td>\n",
       "      <td>957603804383465472</td>\n",
       "      <td>2018-01-28 13:18:33</td>\n",
       "      <td>Twitter for iPhone</td>\n",
       "      <td>185377</td>\n",
       "      <td>39965</td>\n",
       "      <td>0.333333</td>\n",
       "    </tr>\n",
       "    <tr>\n",
       "      <th>3</th>\n",
       "      <td>Somebody please inform Jay-Z that because of m...</td>\n",
       "      <td>139</td>\n",
       "      <td>957603800579297280</td>\n",
       "      <td>2018-01-28 13:18:32</td>\n",
       "      <td>Twitter for iPhone</td>\n",
       "      <td>228595</td>\n",
       "      <td>62433</td>\n",
       "      <td>-0.166667</td>\n",
       "    </tr>\n",
       "    <tr>\n",
       "      <th>4</th>\n",
       "      <td>Democrats are not interested in Border Safety ...</td>\n",
       "      <td>144</td>\n",
       "      <td>957465263129219073</td>\n",
       "      <td>2018-01-28 04:08:02</td>\n",
       "      <td>Twitter for iPhone</td>\n",
       "      <td>147433</td>\n",
       "      <td>34401</td>\n",
       "      <td>-0.112500</td>\n",
       "    </tr>\n",
       "    <tr>\n",
       "      <th>5</th>\n",
       "      <td>I have offered DACA a wonderful deal, includin...</td>\n",
       "      <td>144</td>\n",
       "      <td>957462746060206080</td>\n",
       "      <td>2018-01-28 03:58:02</td>\n",
       "      <td>Twitter for iPhone</td>\n",
       "      <td>167131</td>\n",
       "      <td>45925</td>\n",
       "      <td>1.000000</td>\n",
       "    </tr>\n",
       "    <tr>\n",
       "      <th>6</th>\n",
       "      <td>Taliban targeted innocent Afghans, brave polic...</td>\n",
       "      <td>140</td>\n",
       "      <td>957387711693905925</td>\n",
       "      <td>2018-01-27 22:59:52</td>\n",
       "      <td>Twitter for iPhone</td>\n",
       "      <td>108830</td>\n",
       "      <td>21503</td>\n",
       "      <td>0.650000</td>\n",
       "    </tr>\n",
       "    <tr>\n",
       "      <th>7</th>\n",
       "      <td>On Holocaust Remembrance Day we mourn and grie...</td>\n",
       "      <td>140</td>\n",
       "      <td>957334999522533376</td>\n",
       "      <td>2018-01-27 19:30:24</td>\n",
       "      <td>Twitter for iPhone</td>\n",
       "      <td>102133</td>\n",
       "      <td>25209</td>\n",
       "      <td>0.250000</td>\n",
       "    </tr>\n",
       "    <tr>\n",
       "      <th>8</th>\n",
       "      <td>Thank you to Brandon Judd of the National Bord...</td>\n",
       "      <td>139</td>\n",
       "      <td>957220637705109505</td>\n",
       "      <td>2018-01-27 11:55:58</td>\n",
       "      <td>Twitter for iPhone</td>\n",
       "      <td>120181</td>\n",
       "      <td>28699</td>\n",
       "      <td>0.433333</td>\n",
       "    </tr>\n",
       "    <tr>\n",
       "      <th>9</th>\n",
       "      <td>Thank you for the wonderful welcome @WEF! #Dav...</td>\n",
       "      <td>76</td>\n",
       "      <td>957032249509097472</td>\n",
       "      <td>2018-01-26 23:27:23</td>\n",
       "      <td>Twitter for iPhone</td>\n",
       "      <td>69490</td>\n",
       "      <td>16030</td>\n",
       "      <td>0.900000</td>\n",
       "    </tr>\n",
       "  </tbody>\n",
       "</table>\n",
       "</div>"
      ],
      "text/plain": [
       "                                              Tweets  len                  ID  \\\n",
       "0  Join me live for the #SOTU\\nhttps://t.co/0SLkt...   50  958520216429957121   \n",
       "1  Congratulations to America’s new Secretary of ...   89  958070403901124609   \n",
       "2  Our economy is better than it has been in many...  140  957603804383465472   \n",
       "3  Somebody please inform Jay-Z that because of m...  139  957603800579297280   \n",
       "4  Democrats are not interested in Border Safety ...  144  957465263129219073   \n",
       "5  I have offered DACA a wonderful deal, includin...  144  957462746060206080   \n",
       "6  Taliban targeted innocent Afghans, brave polic...  140  957387711693905925   \n",
       "7  On Holocaust Remembrance Day we mourn and grie...  140  957334999522533376   \n",
       "8  Thank you to Brandon Judd of the National Bord...  139  957220637705109505   \n",
       "9  Thank you for the wonderful welcome @WEF! #Dav...   76  957032249509097472   \n",
       "\n",
       "                 Date              Source   Likes    RTs        SA  \n",
       "0 2018-01-31 02:00:02  Twitter for iPhone   67326  15522  0.136364  \n",
       "1 2018-01-29 20:12:39  Twitter for iPhone   71801  14168  0.136364  \n",
       "2 2018-01-28 13:18:33  Twitter for iPhone  185377  39965  0.333333  \n",
       "3 2018-01-28 13:18:32  Twitter for iPhone  228595  62433 -0.166667  \n",
       "4 2018-01-28 04:08:02  Twitter for iPhone  147433  34401 -0.112500  \n",
       "5 2018-01-28 03:58:02  Twitter for iPhone  167131  45925  1.000000  \n",
       "6 2018-01-27 22:59:52  Twitter for iPhone  108830  21503  0.650000  \n",
       "7 2018-01-27 19:30:24  Twitter for iPhone  102133  25209  0.250000  \n",
       "8 2018-01-27 11:55:58  Twitter for iPhone  120181  28699  0.433333  \n",
       "9 2018-01-26 23:27:23  Twitter for iPhone   69490  16030  0.900000  "
      ]
     },
     "metadata": {},
     "output_type": "display_data"
    }
   ],
   "source": [
    "# We create a column with the result of the analysis:\n",
    "data['SA'] = np.array([ analize_sentiment(tweet) for tweet in data['Tweets'] ])\n",
    "\n",
    "# We display the updated dataframe with the new column:\n",
    "display(data.head(10))"
   ]
  },
  {
   "cell_type": "code",
   "execution_count": null,
   "metadata": {
    "collapsed": true
   },
   "outputs": [],
   "source": []
  }
 ],
 "metadata": {
  "kernelspec": {
   "display_name": "Python 3",
   "language": "python",
   "name": "python3"
  },
  "language_info": {
   "codemirror_mode": {
    "name": "ipython",
    "version": 3
   },
   "file_extension": ".py",
   "mimetype": "text/x-python",
   "name": "python",
   "nbconvert_exporter": "python",
   "pygments_lexer": "ipython3",
   "version": "3.6.4"
  }
 },
 "nbformat": 4,
 "nbformat_minor": 2
}
