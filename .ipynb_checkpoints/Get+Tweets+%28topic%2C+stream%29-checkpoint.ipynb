{
 "cells": [
  {
   "cell_type": "code",
   "execution_count": 24,
   "metadata": {},
   "outputs": [],
   "source": [
    "import pandas as pd\n",
    "import numpy as np\n",
    "import matplotlib.pyplot as plt\n",
    "from matplotlib import style"
   ]
  },
  {
   "cell_type": "code",
   "execution_count": 25,
   "metadata": {},
   "outputs": [],
   "source": [
    "import tweepy\n",
    "from tweepy import OAuthHandler\n",
    "from tweepy import Stream\n",
    "from tweepy.streaming import StreamListener"
   ]
  },
  {
   "cell_type": "code",
   "execution_count": 26,
   "metadata": {},
   "outputs": [],
   "source": [
    "import nltk\n",
    "import datetime\n",
    "import json\n",
    "import time"
   ]
  },
  {
   "cell_type": "code",
   "execution_count": 27,
   "metadata": {},
   "outputs": [],
   "source": [
    "ckey = \"sJBrROFCkgP0mBNTZiixLgoGs\"\n",
    "csecret = \"N4NeIgH4bdMYs37kM2gLx7N2eIPnPSTZMXMBYyNmfUlR8GfXG7\"\n",
    "atoken = \"881521281979400193-xUJPrzZnBMlnZujwAEHBdpvUcoNxxZs\"\n",
    "asecret = \"fAl79BZl1HdihzPBt6VjnS1SDoOm5C8rRUEFPkXfRLL09\""
   ]
  },
  {
   "cell_type": "code",
   "execution_count": 28,
   "metadata": {},
   "outputs": [],
   "source": [
    "auth = OAuthHandler(ckey, csecret)\n",
    "auth.set_access_token(atoken, asecret)"
   ]
  },
  {
   "cell_type": "code",
   "execution_count": 29,
   "metadata": {},
   "outputs": [],
   "source": [
    "api = tweepy.API(auth)"
   ]
  },
  {
   "cell_type": "code",
   "execution_count": 30,
   "metadata": {},
   "outputs": [],
   "source": [
    "class MyStreamListener(tweepy.StreamListener):\n",
    "    def __init__(self, tweet_limit=2000):\n",
    "        self.count = 0\n",
    "        self.limit = tweet_limit\n",
    "        self.saveFile = open('rawtweets.json', 'w')\n",
    "        super(MyStreamListener, self).__init__()\n",
    "\n",
    "    def on_data(self, data):\n",
    "        if self.count < self.limit:\n",
    "            self.saveFile.write(data)\n",
    "            self.count+=1\n",
    "            return True\n",
    "        else:\n",
    "            self.saveFile.close()\n",
    "            return False"
   ]
  },
  {
   "cell_type": "code",
   "execution_count": 31,
   "metadata": {},
   "outputs": [],
   "source": [
    "def get_raw():\n",
    "    data = []\n",
    "    with open('rawtweets.json') as f:\n",
    "        for line in f:\n",
    "            if line.rstrip():\n",
    "                data.append(json.loads(line))\n",
    "    return data"
   ]
  },
  {
   "cell_type": "code",
   "execution_count": 32,
   "metadata": {},
   "outputs": [],
   "source": [
    "def trim_tweets(data):\n",
    "    outtweets = [[time.strftime('%Y-%m-%d %H:%M:%S', time.strptime(rawtweet['created_at'],'%a %b %d %H:%M:%S +0000 %Y')),\n",
    "                  rawtweet['created_at'][0:3],\n",
    "                  rawtweet[\"user\"][\"screen_name\"], \n",
    "                  rawtweet[\"text\"],\n",
    "                  rawtweet[\"source\"].split(\"\\u003e\")[1].split(\"</a\\u003c\\/a\\u003e\")[0][:-3], \n",
    "                  rawtweet['user']['location'],\n",
    "                  rawtweet[\"retweet_count\"],\n",
    "                  rawtweet['favorite_count'],\n",
    "                  rawtweet['reply_count'],\n",
    "                  rawtweet['user']['followers_count'],\n",
    "                  rawtweet['user']['friends_count'],\n",
    "                  rawtweet['user']['favourites_count']] for rawtweet in data]\n",
    "    return outtweets\n",
    "    print (len(alltweets))"
   ]
  },
  {
   "cell_type": "code",
   "execution_count": 33,
   "metadata": {},
   "outputs": [],
   "source": [
    "def getDF(trimmed):\n",
    "    columns = ['Created At', 'Day', 'Screen Name', 'Text', 'Source', 'User Location', 'Retweet Count', 'Favourite Count', 'Reply Count', 'User Followers', 'User Friends', 'User Favorites']\n",
    "    twDF = pd.DataFrame(trimmed, columns=columns)\n",
    "    return twDF"
   ]
  },
  {
   "cell_type": "code",
   "execution_count": 34,
   "metadata": {},
   "outputs": [],
   "source": [
    "def track_topics(topics, number):\n",
    "    myStream = tweepy.Stream(auth=api.auth, listener=MyStreamListener(tweet_limit=number))\n",
    "    myStream.filter(track=topics, encoding='utf-8')\n",
    "    data = get_raw()\n",
    "    trimmed = trim_tweets(data)\n",
    "    twDF = getDF(trimmed)\n",
    "    twDF['Created At'] = pd.to_datetime(twDF['Created At'])\n",
    "    twDF['Date Only'] = twDF['Created At'].dt.date\n",
    "    return twDF"
   ]
  },
  {
   "cell_type": "code",
   "execution_count": 39,
   "metadata": {},
   "outputs": [],
   "source": [
    "topics = ['S&P500']"
   ]
  },
  {
   "cell_type": "code",
   "execution_count": null,
   "metadata": {},
   "outputs": [],
   "source": [
    "twDF = track_topics(topics, 10)"
   ]
  },
  {
   "cell_type": "code",
   "execution_count": null,
   "metadata": {},
   "outputs": [],
   "source": [
    "import vaderSentiment\n",
    "from vaderSentiment.vaderSentiment import SentimentIntensityAnalyzer\n",
    "analyser = SentimentIntensityAnalyzer()"
   ]
  },
  {
   "cell_type": "code",
   "execution_count": null,
   "metadata": {},
   "outputs": [],
   "source": [
    "def get_sentiment_scores(sentence):\n",
    "    snt = analyser.polarity_scores(sentence)\n",
    "    return(snt)"
   ]
  },
  {
   "cell_type": "code",
   "execution_count": null,
   "metadata": {},
   "outputs": [],
   "source": [
    "def get_sentDF(tweet_dataframe):\n",
    "    vadercols = ['neg', 'neu', 'pos', 'compound']\n",
    "    vaderDF = pd.DataFrame(columns = vadercols)\n",
    "    tweets = tweet_dataframe[\"Text\"]\n",
    "    for tweet in range(len(tweets)):\n",
    "        new_dict = get_sentiment_scores(str(tweets[tweet]))\n",
    "        newDF = pd.DataFrame(new_dict, index = [tweet])\n",
    "        vaderDF = pd.concat([vaderDF,newDF])\n",
    "    twvaderDF = pd.concat([tweet_dataframe,vaderDF], axis=1)\n",
    "    return twvaderDF"
   ]
  },
  {
   "cell_type": "code",
   "execution_count": null,
   "metadata": {},
   "outputs": [],
   "source": [
    "twvaderDF = get_sentDF(twDF)"
   ]
  },
  {
   "cell_type": "code",
   "execution_count": null,
   "metadata": {},
   "outputs": [],
   "source": [
    "twvaderDF"
   ]
  },
  {
   "cell_type": "code",
   "execution_count": null,
   "metadata": {},
   "outputs": [],
   "source": [
    "sentiment_scores = twvaderDF.groupby('Date Only')['compound'].apply(sum)"
   ]
  },
  {
   "cell_type": "code",
   "execution_count": null,
   "metadata": {},
   "outputs": [],
   "source": [
    "sent_scores = pd.DataFrame(sentiment_scores)"
   ]
  },
  {
   "cell_type": "code",
   "execution_count": null,
   "metadata": {},
   "outputs": [],
   "source": [
    "sent_scores"
   ]
  },
  {
   "cell_type": "code",
   "execution_count": null,
   "metadata": {
    "collapsed": true
   },
   "outputs": [],
   "source": []
  }
 ],
 "metadata": {
  "kernelspec": {
   "display_name": "Python 3",
   "language": "python",
   "name": "python3"
  },
  "language_info": {
   "codemirror_mode": {
    "name": "ipython",
    "version": 3
   },
   "file_extension": ".py",
   "mimetype": "text/x-python",
   "name": "python",
   "nbconvert_exporter": "python",
   "pygments_lexer": "ipython3",
   "version": "3.6.4"
  }
 },
 "nbformat": 4,
 "nbformat_minor": 2
}
