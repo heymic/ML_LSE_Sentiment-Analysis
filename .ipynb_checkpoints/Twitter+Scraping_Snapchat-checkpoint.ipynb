{
 "cells": [
  {
   "cell_type": "code",
   "execution_count": 36,
   "metadata": {
    "collapsed": true,
    "scrolled": true
   },
   "outputs": [],
   "source": [
    "#!pip install tweepy"
   ]
  },
  {
   "cell_type": "code",
   "execution_count": 37,
   "metadata": {
    "collapsed": true
   },
   "outputs": [],
   "source": [
    "import pandas as pd\n",
    "import numpy as np\n",
    "import tweepy\n",
    "from tweepy import OAuthHandler\n",
    "import json\n",
    "import matplotlib.pyplot as plt\n",
    "from textblob import TextBlob\n",
    "import sys\n",
    "import pymongo\n",
    "from pymongo import MongoClient\n",
    "import twython"
   ]
  },
  {
   "cell_type": "code",
   "execution_count": 38,
   "metadata": {},
   "outputs": [],
   "source": [
    "consumer_key = 'OWea1JDj2RMgv9ktXcKkM3CRI'\n",
    "consumer_secret = 'zolroSpEUpqFrTABaVHttXDYrKAIWBBGPpFjXZ5j4r201obVWq'\n",
    "access_token = '927171157018759173-tqtWOcZMkWsnCvUToWsR3W0qSp64jwm'\n",
    "access_secret = 'qMvXFuUpsnZD3b2TB1O49aGLSU6p607hDBnzkaYCdJWxR'\n",
    "\n",
    "auth = OAuthHandler(consumer_key, consumer_secret)\n",
    "auth.set_access_token(access_token, access_secret)\n",
    " \n",
    "api = tweepy.API(auth)"
   ]
  },
  {
   "cell_type": "code",
   "execution_count": 39,
   "metadata": {
    "collapsed": true
   },
   "outputs": [],
   "source": [
    "from credentials import *    # This will allow us to use the keys as variables\n",
    "\n",
    "def twitter_setup():\n",
    "    \"\"\"\n",
    "    Utility function to setup the Twitter's API\n",
    "    with our access keys provided.\n",
    "    \"\"\"\n",
    "    auth = tweepy.OAuthHandler(CONSUMER_KEY, CONSUMER_SECRET)\n",
    "    auth.set_access_token(ACCESS_TOKEN, ACCESS_SECRET)\n",
    "\n",
    "    api = tweepy.API(auth)\n",
    "    return api"
   ]
  },
  {
   "cell_type": "code",
   "execution_count": 40,
   "metadata": {},
   "outputs": [
    {
     "name": "stdout",
     "output_type": "stream",
     "text": [
      "Number of tweets extracted: 191.\n",
      "\n",
      "10 recent tweets:\n",
      "\n",
      "RT @Pharrell: #LEMONDANCECHALLENGE on @Snapchat! 🍋💥🖖🏾 https://t.co/zjMCnsiUHr\n",
      "\n",
      "RT @StephhStacks: Before &amp; After with a Snapchat filter 🌅✨ https://t.co/8W0oWyvVzK\n",
      "\n",
      "RT @yesipedrov: I’m excited to see a Chavo del Ocho filter on Snapchat! My dad loved this show. #nostalgia #childhoodmemories #growingupLat…\n",
      "\n",
      "RT @TTrogdon: Opened Snap Map and got chills. The most powerful visual I’ve seen on @Snapchat. https://t.co/l58NdopS6G\n",
      "\n",
      "RT @bettybooplove79: Hoy recordamos al chavo del 8. Ame este filtro de @Snapchat https://t.co/WZv9FIFMXU\n",
      "\n",
      "RT @_graphei: Love is in the air ❤️👻 #snapchat #snapmap https://t.co/fps8f7cmyp\n",
      "\n",
      "RT @coschaput: Stuck in traffic watching Shaun White win #gold on @Snapchat while my @Uber driver &amp; I both cry 🇺🇸🎉😭 \n",
      "\n",
      "Reason 251,768,390 wh…\n",
      "\n",
      "RT @NBCOlympics: Hey @snapchat users! You can watch Shaun White's final run LIVE on Snapchat coming up if you're not near a TV. #WinterOlym…\n",
      "\n",
      "RT @Big_Daddy_Vee: Loving all the new curl types woth the new snap update. 💕 my Bitmoji finally looks more like me\n",
      "\n",
      "RT @strangerstyle: look u can do ombré w ur bitmoji now yeeeHAWWWW https://t.co/qqU6K5kh4B\n",
      "\n"
     ]
    }
   ],
   "source": [
    "extractor = api\n",
    "\n",
    "tweets = extractor.user_timeline(screen_name=\"Snapchat\", count=800)\n",
    "print(\"Number of tweets extracted: {}.\\n\".format(len(tweets)))\n",
    "\n",
    "print(\"10 recent tweets:\\n\")\n",
    "for tweet in tweets[:10]:\n",
    "    print(tweet.text)\n",
    "    print()"
   ]
  },
  {
   "cell_type": "code",
   "execution_count": 41,
   "metadata": {
    "collapsed": true
   },
   "outputs": [],
   "source": [
    "data = pd.DataFrame(data=[tweet.text for tweet in tweets], columns=['Tweets'])\n"
   ]
  },
  {
   "cell_type": "code",
   "execution_count": 42,
   "metadata": {},
   "outputs": [
    {
     "data": {
      "text/html": [
       "<div>\n",
       "<style>\n",
       "    .dataframe thead tr:only-child th {\n",
       "        text-align: right;\n",
       "    }\n",
       "\n",
       "    .dataframe thead th {\n",
       "        text-align: left;\n",
       "    }\n",
       "\n",
       "    .dataframe tbody tr th {\n",
       "        vertical-align: top;\n",
       "    }\n",
       "</style>\n",
       "<table border=\"1\" class=\"dataframe\">\n",
       "  <thead>\n",
       "    <tr style=\"text-align: right;\">\n",
       "      <th></th>\n",
       "      <th>Tweets</th>\n",
       "    </tr>\n",
       "  </thead>\n",
       "  <tbody>\n",
       "    <tr>\n",
       "      <th>0</th>\n",
       "      <td>RT @Pharrell: #LEMONDANCECHALLENGE on @Snapcha...</td>\n",
       "    </tr>\n",
       "    <tr>\n",
       "      <th>1</th>\n",
       "      <td>RT @StephhStacks: Before &amp;amp; After with a Sn...</td>\n",
       "    </tr>\n",
       "    <tr>\n",
       "      <th>2</th>\n",
       "      <td>RT @yesipedrov: I’m excited to see a Chavo del...</td>\n",
       "    </tr>\n",
       "    <tr>\n",
       "      <th>3</th>\n",
       "      <td>RT @TTrogdon: Opened Snap Map and got chills. ...</td>\n",
       "    </tr>\n",
       "    <tr>\n",
       "      <th>4</th>\n",
       "      <td>RT @bettybooplove79: Hoy recordamos al chavo d...</td>\n",
       "    </tr>\n",
       "  </tbody>\n",
       "</table>\n",
       "</div>"
      ],
      "text/plain": [
       "                                              Tweets\n",
       "0  RT @Pharrell: #LEMONDANCECHALLENGE on @Snapcha...\n",
       "1  RT @StephhStacks: Before &amp; After with a Sn...\n",
       "2  RT @yesipedrov: I’m excited to see a Chavo del...\n",
       "3  RT @TTrogdon: Opened Snap Map and got chills. ...\n",
       "4  RT @bettybooplove79: Hoy recordamos al chavo d..."
      ]
     },
     "execution_count": 42,
     "metadata": {},
     "output_type": "execute_result"
    }
   ],
   "source": [
    "data.head()"
   ]
  },
  {
   "cell_type": "code",
   "execution_count": 43,
   "metadata": {},
   "outputs": [
    {
     "name": "stdout",
     "output_type": "stream",
     "text": [
      "['__class__', '__delattr__', '__dict__', '__dir__', '__doc__', '__eq__', '__format__', '__ge__', '__getattribute__', '__getstate__', '__gt__', '__hash__', '__init__', '__init_subclass__', '__le__', '__lt__', '__module__', '__ne__', '__new__', '__reduce__', '__reduce_ex__', '__repr__', '__setattr__', '__sizeof__', '__str__', '__subclasshook__', '__weakref__', '_api', '_json', 'author', 'contributors', 'coordinates', 'created_at', 'destroy', 'entities', 'extended_entities', 'favorite', 'favorite_count', 'favorited', 'geo', 'id', 'id_str', 'in_reply_to_screen_name', 'in_reply_to_status_id', 'in_reply_to_status_id_str', 'in_reply_to_user_id', 'in_reply_to_user_id_str', 'is_quote_status', 'lang', 'parse', 'parse_list', 'place', 'possibly_sensitive', 'retweet', 'retweet_count', 'retweeted', 'retweeted_status', 'retweets', 'source', 'source_url', 'text', 'truncated', 'user']\n"
     ]
    }
   ],
   "source": [
    "print(dir(tweets[0]))"
   ]
  },
  {
   "cell_type": "code",
   "execution_count": 44,
   "metadata": {},
   "outputs": [
    {
     "name": "stdout",
     "output_type": "stream",
     "text": [
      "967904671363985408\n",
      "2018-02-25 23:30:31\n",
      "Twitter for iPhone\n",
      "0\n",
      "393\n",
      "None\n",
      "None\n",
      "{'hashtags': [{'text': 'LEMONDANCECHALLENGE', 'indices': [14, 34]}], 'symbols': [], 'user_mentions': [{'screen_name': 'Pharrell', 'name': 'Pharrell Williams', 'id': 338084918, 'id_str': '338084918', 'indices': [3, 12]}, {'screen_name': 'Snapchat', 'name': 'Snapchat', 'id': 376502929, 'id_str': '376502929', 'indices': [38, 47]}], 'urls': [], 'media': [{'id': 967872796276662272, 'id_str': '967872796276662272', 'indices': [54, 77], 'media_url': 'http://pbs.twimg.com/ext_tw_video_thumb/967872796276662272/pu/img/1mbVuBZEIAaD2olV.jpg', 'media_url_https': 'https://pbs.twimg.com/ext_tw_video_thumb/967872796276662272/pu/img/1mbVuBZEIAaD2olV.jpg', 'url': 'https://t.co/zjMCnsiUHr', 'display_url': 'pic.twitter.com/zjMCnsiUHr', 'expanded_url': 'https://twitter.com/Pharrell/status/967873158203113472/video/1', 'type': 'photo', 'sizes': {'thumb': {'w': 150, 'h': 150, 'resize': 'crop'}, 'small': {'w': 680, 'h': 680, 'resize': 'fit'}, 'medium': {'w': 720, 'h': 720, 'resize': 'fit'}, 'large': {'w': 720, 'h': 720, 'resize': 'fit'}}, 'source_status_id': 967873158203113472, 'source_status_id_str': '967873158203113472', 'source_user_id': 338084918, 'source_user_id_str': '338084918'}]}\n"
     ]
    }
   ],
   "source": [
    "print(tweets[0].id)\n",
    "print(tweets[0].created_at)\n",
    "print(tweets[0].source)\n",
    "print(tweets[0].favorite_count)\n",
    "print(tweets[0].retweet_count)\n",
    "print(tweets[0].geo)\n",
    "print(tweets[0].coordinates)\n",
    "print(tweets[0].entities)"
   ]
  },
  {
   "cell_type": "code",
   "execution_count": 45,
   "metadata": {
    "collapsed": true
   },
   "outputs": [],
   "source": [
    "data['len']  = np.array([len(tweet.text) for tweet in tweets])\n",
    "data['ID']   = np.array([tweet.id for tweet in tweets])\n",
    "data['Date'] = np.array([tweet.created_at for tweet in tweets])\n",
    "data['Source'] = np.array([tweet.source for tweet in tweets])\n",
    "data['Likes']  = np.array([tweet.favorite_count for tweet in tweets])\n",
    "data['RTs']    = np.array([tweet.retweet_count for tweet in tweets])"
   ]
  },
  {
   "cell_type": "code",
   "execution_count": 46,
   "metadata": {},
   "outputs": [
    {
     "data": {
      "text/html": [
       "<div>\n",
       "<style>\n",
       "    .dataframe thead tr:only-child th {\n",
       "        text-align: right;\n",
       "    }\n",
       "\n",
       "    .dataframe thead th {\n",
       "        text-align: left;\n",
       "    }\n",
       "\n",
       "    .dataframe tbody tr th {\n",
       "        vertical-align: top;\n",
       "    }\n",
       "</style>\n",
       "<table border=\"1\" class=\"dataframe\">\n",
       "  <thead>\n",
       "    <tr style=\"text-align: right;\">\n",
       "      <th></th>\n",
       "      <th>Tweets</th>\n",
       "      <th>len</th>\n",
       "      <th>ID</th>\n",
       "      <th>Date</th>\n",
       "      <th>Source</th>\n",
       "      <th>Likes</th>\n",
       "      <th>RTs</th>\n",
       "    </tr>\n",
       "  </thead>\n",
       "  <tbody>\n",
       "    <tr>\n",
       "      <th>0</th>\n",
       "      <td>RT @Pharrell: #LEMONDANCECHALLENGE on @Snapcha...</td>\n",
       "      <td>77</td>\n",
       "      <td>967904671363985408</td>\n",
       "      <td>2018-02-25 23:30:31</td>\n",
       "      <td>Twitter for iPhone</td>\n",
       "      <td>0</td>\n",
       "      <td>393</td>\n",
       "    </tr>\n",
       "    <tr>\n",
       "      <th>1</th>\n",
       "      <td>RT @StephhStacks: Before &amp;amp; After with a Sn...</td>\n",
       "      <td>86</td>\n",
       "      <td>967892165258108930</td>\n",
       "      <td>2018-02-25 22:40:49</td>\n",
       "      <td>Twitter for iPhone</td>\n",
       "      <td>0</td>\n",
       "      <td>67</td>\n",
       "    </tr>\n",
       "    <tr>\n",
       "      <th>2</th>\n",
       "      <td>RT @yesipedrov: I’m excited to see a Chavo del...</td>\n",
       "      <td>140</td>\n",
       "      <td>966848554714071040</td>\n",
       "      <td>2018-02-23 01:33:53</td>\n",
       "      <td>Twitter for iPhone</td>\n",
       "      <td>0</td>\n",
       "      <td>24</td>\n",
       "    </tr>\n",
       "    <tr>\n",
       "      <th>3</th>\n",
       "      <td>RT @TTrogdon: Opened Snap Map and got chills. ...</td>\n",
       "      <td>118</td>\n",
       "      <td>966543559846387712</td>\n",
       "      <td>2018-02-22 05:21:56</td>\n",
       "      <td>Twitter for iPhone</td>\n",
       "      <td>0</td>\n",
       "      <td>434</td>\n",
       "    </tr>\n",
       "    <tr>\n",
       "      <th>4</th>\n",
       "      <td>RT @bettybooplove79: Hoy recordamos al chavo d...</td>\n",
       "      <td>104</td>\n",
       "      <td>966542448808767488</td>\n",
       "      <td>2018-02-22 05:17:31</td>\n",
       "      <td>Twitter for iPhone</td>\n",
       "      <td>0</td>\n",
       "      <td>8</td>\n",
       "    </tr>\n",
       "  </tbody>\n",
       "</table>\n",
       "</div>"
      ],
      "text/plain": [
       "                                              Tweets  len                  ID  \\\n",
       "0  RT @Pharrell: #LEMONDANCECHALLENGE on @Snapcha...   77  967904671363985408   \n",
       "1  RT @StephhStacks: Before &amp; After with a Sn...   86  967892165258108930   \n",
       "2  RT @yesipedrov: I’m excited to see a Chavo del...  140  966848554714071040   \n",
       "3  RT @TTrogdon: Opened Snap Map and got chills. ...  118  966543559846387712   \n",
       "4  RT @bettybooplove79: Hoy recordamos al chavo d...  104  966542448808767488   \n",
       "\n",
       "                 Date              Source  Likes  RTs  \n",
       "0 2018-02-25 23:30:31  Twitter for iPhone      0  393  \n",
       "1 2018-02-25 22:40:49  Twitter for iPhone      0   67  \n",
       "2 2018-02-23 01:33:53  Twitter for iPhone      0   24  \n",
       "3 2018-02-22 05:21:56  Twitter for iPhone      0  434  \n",
       "4 2018-02-22 05:17:31  Twitter for iPhone      0    8  "
      ]
     },
     "execution_count": 46,
     "metadata": {},
     "output_type": "execute_result"
    }
   ],
   "source": [
    "data.head()"
   ]
  },
  {
   "cell_type": "code",
   "execution_count": 47,
   "metadata": {},
   "outputs": [
    {
     "name": "stdout",
     "output_type": "stream",
     "text": [
      "The lenght's average in tweets: 105.37696335078535\n"
     ]
    }
   ],
   "source": [
    "mean = np.mean(data['len'])\n",
    "\n",
    "print(\"The lenght's average in tweets: {}\".format(mean))"
   ]
  },
  {
   "cell_type": "code",
   "execution_count": 48,
   "metadata": {},
   "outputs": [
    {
     "name": "stdout",
     "output_type": "stream",
     "text": [
      "The tweet with more likes is: \n",
      "Introducing the new Snapchat!!https://t.co/2gwVskpY1M\n",
      "Number of likes: 2997\n",
      "53 characters.\n",
      "\n",
      "The tweet with more retweets is: \n",
      "RT @selenagomez: Press and hold on the @Snapchat camera when listening to “Fetish” to @Shazam and unlock my exclusive filter! 🍑 https://t.c…\n",
      "Number of retweets: 15954\n",
      "140 characters.\n",
      "\n"
     ]
    }
   ],
   "source": [
    "fav_max = np.max(data['Likes'])\n",
    "rt_max  = np.max(data['RTs'])\n",
    "\n",
    "fav = data[data.Likes == fav_max].index[0]\n",
    "rt  = data[data.RTs == rt_max].index[0]\n",
    "\n",
    "print(\"The tweet with more likes is: \\n{}\".format(data['Tweets'][fav]))\n",
    "print(\"Number of likes: {}\".format(fav_max))\n",
    "print(\"{} characters.\\n\".format(data['len'][fav]))\n",
    "\n",
    "print(\"The tweet with more retweets is: \\n{}\".format(data['Tweets'][rt]))\n",
    "print(\"Number of retweets: {}\".format(rt_max))\n",
    "print(\"{} characters.\\n\".format(data['len'][rt]))"
   ]
  },
  {
   "cell_type": "code",
   "execution_count": 49,
   "metadata": {
    "collapsed": true
   },
   "outputs": [],
   "source": [
    "tlen = pd.Series(data=data['len'].values, index=data['Date'])\n",
    "tfav = pd.Series(data=data['Likes'].values, index=data['Date'])\n",
    "tret = pd.Series(data=data['RTs'].values, index=data['Date'])"
   ]
  },
  {
   "cell_type": "code",
   "execution_count": 56,
   "metadata": {},
   "outputs": [
    {
     "data": {
      "image/png": "[encoded data removed]",
      "text/plain": [
       "<matplotlib.figure.Figure at 0x1a1b2ffa58>"
      ]
     },
     "metadata": {},
     "output_type": "display_data"
    }
   ],
   "source": [
    "tlen.plot(figsize=(10,4), color='r');\n",
    "plt.show()"
   ]
  },
  {
   "cell_type": "code",
   "execution_count": 57,
   "metadata": {},
   "outputs": [
    {
     "data": {
      "image/png": "[encoded data removed]",
      "text/plain": [
       "<matplotlib.figure.Figure at 0x10d11e898>"
      ]
     },
     "metadata": {},
     "output_type": "display_data"
    }
   ],
   "source": [
    "tfav.plot(figsize=(10,4), label=\"Likes\", legend=True)\n",
    "tret.plot(figsize=(10,4), label=\"Retweets\", legend=True);\n",
    "plt.show()"
   ]
  },
  {
   "cell_type": "code",
   "execution_count": 52,
   "metadata": {
    "collapsed": true
   },
   "outputs": [],
   "source": [
    "from textblob import TextBlob\n",
    "import re\n",
    "\n",
    "def clean_tweet(tweet):\n",
    "    '''\n",
    "    Utility function to clean the text in a tweet by removing \n",
    "    links and special characters using regex.\n",
    "    '''\n",
    "    return ' '.join(re.sub(\"(@[A-Za-z0-9]+)|([^0-9A-Za-z \\t])|(\\w+:\\/\\/\\S+)\", \" \", tweet).split())\n",
    "\n",
    "def analize_sentiment(tweet):\n",
    "    '''\n",
    "    Utility function to classify the polarity of a tweet\n",
    "    using textblob.\n",
    "    '''\n",
    "    analysis = TextBlob(clean_tweet(tweet))\n",
    "    return analysis.sentiment.polarity"
   ]
  },
  {
   "cell_type": "code",
   "execution_count": 53,
   "metadata": {
    "scrolled": true
   },
   "outputs": [
    {
     "data": {
      "text/html": [
       "<div>\n",
       "<style>\n",
       "    .dataframe thead tr:only-child th {\n",
       "        text-align: right;\n",
       "    }\n",
       "\n",
       "    .dataframe thead th {\n",
       "        text-align: left;\n",
       "    }\n",
       "\n",
       "    .dataframe tbody tr th {\n",
       "        vertical-align: top;\n",
       "    }\n",
       "</style>\n",
       "<table border=\"1\" class=\"dataframe\">\n",
       "  <thead>\n",
       "    <tr style=\"text-align: right;\">\n",
       "      <th></th>\n",
       "      <th>Tweets</th>\n",
       "      <th>len</th>\n",
       "      <th>ID</th>\n",
       "      <th>Date</th>\n",
       "      <th>Source</th>\n",
       "      <th>Likes</th>\n",
       "      <th>RTs</th>\n",
       "      <th>SA</th>\n",
       "    </tr>\n",
       "  </thead>\n",
       "  <tbody>\n",
       "    <tr>\n",
       "      <th>0</th>\n",
       "      <td>RT @Pharrell: #LEMONDANCECHALLENGE on @Snapcha...</td>\n",
       "      <td>77</td>\n",
       "      <td>967904671363985408</td>\n",
       "      <td>2018-02-25 23:30:31</td>\n",
       "      <td>Twitter for iPhone</td>\n",
       "      <td>0</td>\n",
       "      <td>393</td>\n",
       "      <td>0.000000</td>\n",
       "    </tr>\n",
       "    <tr>\n",
       "      <th>1</th>\n",
       "      <td>RT @StephhStacks: Before &amp;amp; After with a Sn...</td>\n",
       "      <td>86</td>\n",
       "      <td>967892165258108930</td>\n",
       "      <td>2018-02-25 22:40:49</td>\n",
       "      <td>Twitter for iPhone</td>\n",
       "      <td>0</td>\n",
       "      <td>67</td>\n",
       "      <td>0.000000</td>\n",
       "    </tr>\n",
       "    <tr>\n",
       "      <th>2</th>\n",
       "      <td>RT @yesipedrov: I’m excited to see a Chavo del...</td>\n",
       "      <td>140</td>\n",
       "      <td>966848554714071040</td>\n",
       "      <td>2018-02-23 01:33:53</td>\n",
       "      <td>Twitter for iPhone</td>\n",
       "      <td>0</td>\n",
       "      <td>24</td>\n",
       "      <td>0.537500</td>\n",
       "    </tr>\n",
       "    <tr>\n",
       "      <th>3</th>\n",
       "      <td>RT @TTrogdon: Opened Snap Map and got chills. ...</td>\n",
       "      <td>118</td>\n",
       "      <td>966543559846387712</td>\n",
       "      <td>2018-02-22 05:21:56</td>\n",
       "      <td>Twitter for iPhone</td>\n",
       "      <td>0</td>\n",
       "      <td>434</td>\n",
       "      <td>0.266667</td>\n",
       "    </tr>\n",
       "    <tr>\n",
       "      <th>4</th>\n",
       "      <td>RT @bettybooplove79: Hoy recordamos al chavo d...</td>\n",
       "      <td>104</td>\n",
       "      <td>966542448808767488</td>\n",
       "      <td>2018-02-22 05:17:31</td>\n",
       "      <td>Twitter for iPhone</td>\n",
       "      <td>0</td>\n",
       "      <td>8</td>\n",
       "      <td>0.000000</td>\n",
       "    </tr>\n",
       "    <tr>\n",
       "      <th>5</th>\n",
       "      <td>RT @_graphei: Love is in the air ❤️👻 #snapchat...</td>\n",
       "      <td>79</td>\n",
       "      <td>963795333435211777</td>\n",
       "      <td>2018-02-14 15:21:28</td>\n",
       "      <td>Twitter for iPhone</td>\n",
       "      <td>0</td>\n",
       "      <td>49</td>\n",
       "      <td>0.500000</td>\n",
       "    </tr>\n",
       "    <tr>\n",
       "      <th>6</th>\n",
       "      <td>RT @coschaput: Stuck in traffic watching Shaun...</td>\n",
       "      <td>144</td>\n",
       "      <td>963649703660457984</td>\n",
       "      <td>2018-02-14 05:42:47</td>\n",
       "      <td>Twitter for iPhone</td>\n",
       "      <td>0</td>\n",
       "      <td>22</td>\n",
       "      <td>0.400000</td>\n",
       "    </tr>\n",
       "    <tr>\n",
       "      <th>7</th>\n",
       "      <td>RT @NBCOlympics: Hey @snapchat users! You can ...</td>\n",
       "      <td>140</td>\n",
       "      <td>963614031071166465</td>\n",
       "      <td>2018-02-14 03:21:02</td>\n",
       "      <td>Twitter for iPhone</td>\n",
       "      <td>0</td>\n",
       "      <td>111</td>\n",
       "      <td>0.021591</td>\n",
       "    </tr>\n",
       "    <tr>\n",
       "      <th>8</th>\n",
       "      <td>RT @Big_Daddy_Vee: Loving all the new curl typ...</td>\n",
       "      <td>114</td>\n",
       "      <td>961024159101800448</td>\n",
       "      <td>2018-02-06 23:49:49</td>\n",
       "      <td>Twitter for iPhone</td>\n",
       "      <td>0</td>\n",
       "      <td>186</td>\n",
       "      <td>0.274545</td>\n",
       "    </tr>\n",
       "    <tr>\n",
       "      <th>9</th>\n",
       "      <td>RT @strangerstyle: look u can do ombré w ur bi...</td>\n",
       "      <td>90</td>\n",
       "      <td>961024114617020416</td>\n",
       "      <td>2018-02-06 23:49:38</td>\n",
       "      <td>Twitter for iPhone</td>\n",
       "      <td>0</td>\n",
       "      <td>77</td>\n",
       "      <td>0.000000</td>\n",
       "    </tr>\n",
       "  </tbody>\n",
       "</table>\n",
       "</div>"
      ],
      "text/plain": [
       "                                              Tweets  len                  ID  \\\n",
       "0  RT @Pharrell: #LEMONDANCECHALLENGE on @Snapcha...   77  967904671363985408   \n",
       "1  RT @StephhStacks: Before &amp; After with a Sn...   86  967892165258108930   \n",
       "2  RT @yesipedrov: I’m excited to see a Chavo del...  140  966848554714071040   \n",
       "3  RT @TTrogdon: Opened Snap Map and got chills. ...  118  966543559846387712   \n",
       "4  RT @bettybooplove79: Hoy recordamos al chavo d...  104  966542448808767488   \n",
       "5  RT @_graphei: Love is in the air ❤️👻 #snapchat...   79  963795333435211777   \n",
       "6  RT @coschaput: Stuck in traffic watching Shaun...  144  963649703660457984   \n",
       "7  RT @NBCOlympics: Hey @snapchat users! You can ...  140  963614031071166465   \n",
       "8  RT @Big_Daddy_Vee: Loving all the new curl typ...  114  961024159101800448   \n",
       "9  RT @strangerstyle: look u can do ombré w ur bi...   90  961024114617020416   \n",
       "\n",
       "                 Date              Source  Likes  RTs        SA  \n",
       "0 2018-02-25 23:30:31  Twitter for iPhone      0  393  0.000000  \n",
       "1 2018-02-25 22:40:49  Twitter for iPhone      0   67  0.000000  \n",
       "2 2018-02-23 01:33:53  Twitter for iPhone      0   24  0.537500  \n",
       "3 2018-02-22 05:21:56  Twitter for iPhone      0  434  0.266667  \n",
       "4 2018-02-22 05:17:31  Twitter for iPhone      0    8  0.000000  \n",
       "5 2018-02-14 15:21:28  Twitter for iPhone      0   49  0.500000  \n",
       "6 2018-02-14 05:42:47  Twitter for iPhone      0   22  0.400000  \n",
       "7 2018-02-14 03:21:02  Twitter for iPhone      0  111  0.021591  \n",
       "8 2018-02-06 23:49:49  Twitter for iPhone      0  186  0.274545  \n",
       "9 2018-02-06 23:49:38  Twitter for iPhone      0   77  0.000000  "
      ]
     },
     "metadata": {},
     "output_type": "display_data"
    }
   ],
   "source": [
    "data['SA'] = np.array([ analize_sentiment(tweet) for tweet in data['Tweets'] ])\n",
    "tsa = pd.Series(data=data['SA'].values, index=data['Date'])\n",
    "display(data.head(10))"
   ]
  },
  {
   "cell_type": "code",
   "execution_count": 58,
   "metadata": {},
   "outputs": [
    {
     "data": {
      "image/png": "[encoded data removed]",
      "text/plain": [
       "<matplotlib.figure.Figure at 0x10d11ae80>"
      ]
     },
     "metadata": {},
     "output_type": "display_data"
    }
   ],
   "source": [
    "tsa.plot(figsize=(10,4), color='r')\n",
    "plt.show()"
   ]
  },
  {
   "cell_type": "code",
   "execution_count": 59,
   "metadata": {},
   "outputs": [
    {
     "data": {
      "image/png": "[encoded data removed]",
      "text/plain": [
       "<matplotlib.figure.Figure at 0x10d0f8940>"
      ]
     },
     "metadata": {},
     "output_type": "display_data"
    }
   ],
   "source": [
    "twsa = pd.Series(data=(data['SA'].values)*(tret+tfav)/2, index=data['Date'])\n",
    "twsa.plot(figsize=(10,4), color='r')\n",
    "plt.show()"
   ]
  },
  {
   "cell_type": "code",
   "execution_count": 30,
   "metadata": {
    "collapsed": true
   },
   "outputs": [],
   "source": []
  },
  {
   "cell_type": "code",
   "execution_count": 31,
   "metadata": {
    "collapsed": true
   },
   "outputs": [],
   "source": []
  },
  {
   "cell_type": "code",
   "execution_count": 32,
   "metadata": {
    "collapsed": true
   },
   "outputs": [],
   "source": []
  },
  {
   "cell_type": "code",
   "execution_count": 33,
   "metadata": {
    "collapsed": true
   },
   "outputs": [],
   "source": []
  },
  {
   "cell_type": "code",
   "execution_count": null,
   "metadata": {},
   "outputs": [],
   "source": []
  },
  {
   "cell_type": "code",
   "execution_count": null,
   "metadata": {},
   "outputs": [],
   "source": []
  },
  {
   "cell_type": "code",
   "execution_count": null,
   "metadata": {
    "collapsed": true
   },
   "outputs": [],
   "source": []
  },
  {
   "cell_type": "code",
   "execution_count": null,
   "metadata": {
    "collapsed": true
   },
   "outputs": [],
   "source": []
  },
  {
   "cell_type": "code",
   "execution_count": null,
   "metadata": {
    "collapsed": true
   },
   "outputs": [],
   "source": []
  },
  {
   "cell_type": "code",
   "execution_count": null,
   "metadata": {
    "collapsed": true
   },
   "outputs": [],
   "source": []
  },
  {
   "cell_type": "code",
   "execution_count": null,
   "metadata": {
    "collapsed": true
   },
   "outputs": [],
   "source": []
  },
  {
   "cell_type": "code",
   "execution_count": null,
   "metadata": {
    "collapsed": true
   },
   "outputs": [],
   "source": []
  }
 ],
 "metadata": {
  "kernelspec": {
   "display_name": "Python 3",
   "language": "python",
   "name": "python3"
  },
  "language_info": {
   "codemirror_mode": {
    "name": "ipython",
    "version": 3
   },
   "file_extension": ".py",
   "mimetype": "text/x-python",
   "name": "python",
   "nbconvert_exporter": "python",
   "pygments_lexer": "ipython3",
   "version": "3.6.4"
  }
 },
 "nbformat": 4,
 "nbformat_minor": 2
}
