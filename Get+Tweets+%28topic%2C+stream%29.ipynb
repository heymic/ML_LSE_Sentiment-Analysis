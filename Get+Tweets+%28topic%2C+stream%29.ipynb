{
 "cells": [
  {
   "cell_type": "code",
   "execution_count": 1,
   "metadata": {
    "collapsed": true
   },
   "outputs": [],
   "source": [
    "import pandas as pd\n",
    "import numpy as np\n",
    "import matplotlib.pyplot as plt\n",
    "from matplotlib import style"
   ]
  },
  {
   "cell_type": "code",
   "execution_count": 2,
   "metadata": {
    "collapsed": true
   },
   "outputs": [],
   "source": [
    "import tweepy\n",
    "from tweepy import OAuthHandler\n",
    "from tweepy import Stream\n",
    "from tweepy.streaming import StreamListener"
   ]
  },
  {
   "cell_type": "code",
   "execution_count": 3,
   "metadata": {
    "collapsed": true
   },
   "outputs": [],
   "source": [
    "import nltk\n",
    "import datetime\n",
    "import json\n",
    "import time"
   ]
  },
  {
   "cell_type": "code",
   "execution_count": 4,
   "metadata": {
    "collapsed": true
   },
   "outputs": [],
   "source": [
    "ckey = \"sJBrROFCkgP0mBNTZiixLgoGs\"\n",
    "csecret = \"N4NeIgH4bdMYs37kM2gLx7N2eIPnPSTZMXMBYyNmfUlR8GfXG7\"\n",
    "atoken = \"881521281979400193-xUJPrzZnBMlnZujwAEHBdpvUcoNxxZs\"\n",
    "asecret = \"fAl79BZl1HdihzPBt6VjnS1SDoOm5C8rRUEFPkXfRLL09\""
   ]
  },
  {
   "cell_type": "code",
   "execution_count": 5,
   "metadata": {
    "collapsed": true
   },
   "outputs": [],
   "source": [
    "auth = OAuthHandler(ckey, csecret)\n",
    "auth.set_access_token(atoken, asecret)"
   ]
  },
  {
   "cell_type": "code",
   "execution_count": 6,
   "metadata": {
    "collapsed": true
   },
   "outputs": [],
   "source": [
    "api = tweepy.API(auth)"
   ]
  },
  {
   "cell_type": "code",
   "execution_count": 7,
   "metadata": {
    "collapsed": true
   },
   "outputs": [],
   "source": [
    "class MyStreamListener(tweepy.StreamListener):\n",
    "    def __init__(self, tweet_limit=2000):\n",
    "        self.count = 0\n",
    "        self.limit = tweet_limit\n",
    "        self.saveFile = open('rawtweets.json', 'w')\n",
    "        super(MyStreamListener, self).__init__()\n",
    "\n",
    "    def on_data(self, data):\n",
    "        if self.count < self.limit:\n",
    "            self.saveFile.write(data)\n",
    "            self.count+=1\n",
    "            return True\n",
    "        else:\n",
    "            self.saveFile.close()\n",
    "            return False"
   ]
  },
  {
   "cell_type": "code",
   "execution_count": 8,
   "metadata": {
    "collapsed": true
   },
   "outputs": [],
   "source": [
    "def get_raw():\n",
    "    data = []\n",
    "    with open('rawtweets.json') as f:\n",
    "        for line in f:\n",
    "            if line.rstrip():\n",
    "                data.append(json.loads(line))\n",
    "    return data"
   ]
  },
  {
   "cell_type": "code",
   "execution_count": 9,
   "metadata": {},
   "outputs": [],
   "source": [
    "def trim_tweets(data):\n",
    "    outtweets = [[time.strftime('%Y-%m-%d %H:%M:%S', time.strptime(rawtweet['created_at'],'%a %b %d %H:%M:%S +0000 %Y')),\n",
    "                  rawtweet['created_at'][0:3],\n",
    "                  rawtweet[\"user\"][\"screen_name\"], \n",
    "                  rawtweet[\"text\"],\n",
    "                  rawtweet[\"source\"].split(\"\\u003e\")[1].split(\"</a\\u003c\\/a\\u003e\")[0][:-3], \n",
    "                  rawtweet['user']['location'],\n",
    "                  rawtweet[\"retweet_count\"],\n",
    "                  rawtweet['favorite_count'],\n",
    "                  rawtweet['reply_count'],\n",
    "                  rawtweet['user']['followers_count'],\n",
    "                  rawtweet['user']['friends_count'],\n",
    "                  rawtweet['user']['favourites_count']] for rawtweet in data]\n",
    "    return outtweets\n",
    "    print (len(alltweets))"
   ]
  },
  {
   "cell_type": "code",
   "execution_count": 10,
   "metadata": {
    "collapsed": true
   },
   "outputs": [],
   "source": [
    "def getDF(trimmed):\n",
    "    columns = ['Created At', 'Day', 'Screen Name', 'Text', 'Source', 'User Location', 'Retweet Count', 'Favourite Count', 'Reply Count', 'User Followers', 'User Friends', 'User Favorites']\n",
    "    twDF = pd.DataFrame(trimmed, columns=columns)\n",
    "    return twDF"
   ]
  },
  {
   "cell_type": "code",
   "execution_count": 11,
   "metadata": {},
   "outputs": [],
   "source": [
    "def track_topics(topics, number):\n",
    "    myStream = tweepy.Stream(auth=api.auth, listener=MyStreamListener(tweet_limit=number))\n",
    "    myStream.filter(track=topics, encoding='utf-8')\n",
    "    data = get_raw()\n",
    "    trimmed = trim_tweets(data)\n",
    "    twDF = getDF(trimmed)\n",
    "    twDF['Created At'] = pd.to_datetime(twDF['Created At'])\n",
    "    twDF['Date Only'] = twDF['Created At'].dt.date\n",
    "    return twDF"
   ]
  },
  {
   "cell_type": "code",
   "execution_count": 12,
   "metadata": {
    "collapsed": true
   },
   "outputs": [],
   "source": [
    "topics = ['Tesla', 'Microsoft']"
   ]
  },
  {
   "cell_type": "code",
   "execution_count": 13,
   "metadata": {},
   "outputs": [],
   "source": [
    "twDF = track_topics(topics, 10)"
   ]
  },
  {
   "cell_type": "code",
   "execution_count": 14,
   "metadata": {
    "collapsed": true
   },
   "outputs": [],
   "source": [
    "import vaderSentiment\n",
    "from vaderSentiment.vaderSentiment import SentimentIntensityAnalyzer\n",
    "analyser = SentimentIntensityAnalyzer()"
   ]
  },
  {
   "cell_type": "code",
   "execution_count": 15,
   "metadata": {
    "collapsed": true
   },
   "outputs": [],
   "source": [
    "def get_sentiment_scores(sentence):\n",
    "    snt = analyser.polarity_scores(sentence)\n",
    "    return(snt)"
   ]
  },
  {
   "cell_type": "code",
   "execution_count": 16,
   "metadata": {
    "collapsed": true
   },
   "outputs": [],
   "source": [
    "def get_sentDF(tweet_dataframe):\n",
    "    vadercols = ['neg', 'neu', 'pos', 'compound']\n",
    "    vaderDF = pd.DataFrame(columns = vadercols)\n",
    "    tweets = tweet_dataframe[\"Text\"]\n",
    "    for tweet in range(len(tweets)):\n",
    "        new_dict = get_sentiment_scores(str(tweets[tweet]))\n",
    "        newDF = pd.DataFrame(new_dict, index = [tweet])\n",
    "        vaderDF = pd.concat([vaderDF,newDF])\n",
    "    twvaderDF = pd.concat([tweet_dataframe,vaderDF], axis=1)\n",
    "    return twvaderDF"
   ]
  },
  {
   "cell_type": "code",
   "execution_count": 17,
   "metadata": {},
   "outputs": [],
   "source": [
    "twvaderDF = get_sentDF(twDF)"
   ]
  },
  {
   "cell_type": "code",
   "execution_count": 18,
   "metadata": {},
   "outputs": [
    {
     "data": {
      "text/html": [
       "<div>\n",
       "<style>\n",
       "    .dataframe thead tr:only-child th {\n",
       "        text-align: right;\n",
       "    }\n",
       "\n",
       "    .dataframe thead th {\n",
       "        text-align: left;\n",
       "    }\n",
       "\n",
       "    .dataframe tbody tr th {\n",
       "        vertical-align: top;\n",
       "    }\n",
       "</style>\n",
       "<table border=\"1\" class=\"dataframe\">\n",
       "  <thead>\n",
       "    <tr style=\"text-align: right;\">\n",
       "      <th></th>\n",
       "      <th>Created At</th>\n",
       "      <th>Day</th>\n",
       "      <th>Screen Name</th>\n",
       "      <th>Text</th>\n",
       "      <th>Source</th>\n",
       "      <th>User Location</th>\n",
       "      <th>Retweet Count</th>\n",
       "      <th>Favourite Count</th>\n",
       "      <th>Reply Count</th>\n",
       "      <th>User Followers</th>\n",
       "      <th>User Friends</th>\n",
       "      <th>User Favorites</th>\n",
       "      <th>Date Only</th>\n",
       "      <th>compound</th>\n",
       "      <th>neg</th>\n",
       "      <th>neu</th>\n",
       "      <th>pos</th>\n",
       "    </tr>\n",
       "  </thead>\n",
       "  <tbody>\n",
       "    <tr>\n",
       "      <th>0</th>\n",
       "      <td>2018-02-21 01:18:42</td>\n",
       "      <td>Wed</td>\n",
       "      <td>unbiasednreal</td>\n",
       "      <td>@Audi @BMWUSA @GEICO @McDonalds @HiltonHotels ...</td>\n",
       "      <td>Twitter for iPhone</td>\n",
       "      <td>None</td>\n",
       "      <td>0</td>\n",
       "      <td>0</td>\n",
       "      <td>0</td>\n",
       "      <td>1</td>\n",
       "      <td>1</td>\n",
       "      <td>0</td>\n",
       "      <td>2018-02-21</td>\n",
       "      <td>0.0000</td>\n",
       "      <td>0.000</td>\n",
       "      <td>1.000</td>\n",
       "      <td>0.000</td>\n",
       "    </tr>\n",
       "    <tr>\n",
       "      <th>1</th>\n",
       "      <td>2018-02-21 01:18:45</td>\n",
       "      <td>Wed</td>\n",
       "      <td>Sanjanakhanna19</td>\n",
       "      <td>RT @BradSmi: The people that come to the US to...</td>\n",
       "      <td>Twitter for iPhone</td>\n",
       "      <td>None</td>\n",
       "      <td>0</td>\n",
       "      <td>0</td>\n",
       "      <td>0</td>\n",
       "      <td>1</td>\n",
       "      <td>11</td>\n",
       "      <td>171</td>\n",
       "      <td>2018-02-21</td>\n",
       "      <td>0.7506</td>\n",
       "      <td>0.000</td>\n",
       "      <td>0.748</td>\n",
       "      <td>0.252</td>\n",
       "    </tr>\n",
       "    <tr>\n",
       "      <th>2</th>\n",
       "      <td>2018-02-21 01:18:46</td>\n",
       "      <td>Wed</td>\n",
       "      <td>ZephyrArcturus</td>\n",
       "      <td>imaginez dans plusieurs centaines d'années qua...</td>\n",
       "      <td>TweetDeck</td>\n",
       "      <td>destiny - ancient spaceship</td>\n",
       "      <td>0</td>\n",
       "      <td>0</td>\n",
       "      <td>0</td>\n",
       "      <td>234</td>\n",
       "      <td>559</td>\n",
       "      <td>10427</td>\n",
       "      <td>2018-02-21</td>\n",
       "      <td>-0.1280</td>\n",
       "      <td>0.073</td>\n",
       "      <td>0.927</td>\n",
       "      <td>0.000</td>\n",
       "    </tr>\n",
       "    <tr>\n",
       "      <th>3</th>\n",
       "      <td>2018-02-21 01:18:47</td>\n",
       "      <td>Wed</td>\n",
       "      <td>Adam_Ak</td>\n",
       "      <td>RT @Shubzy_S: Bazinga! https://t.co/xOQ0Kz6NGX</td>\n",
       "      <td>Twitter for iPhone</td>\n",
       "      <td>None</td>\n",
       "      <td>0</td>\n",
       "      <td>0</td>\n",
       "      <td>0</td>\n",
       "      <td>602</td>\n",
       "      <td>328</td>\n",
       "      <td>624</td>\n",
       "      <td>2018-02-21</td>\n",
       "      <td>0.0000</td>\n",
       "      <td>0.000</td>\n",
       "      <td>1.000</td>\n",
       "      <td>0.000</td>\n",
       "    </tr>\n",
       "    <tr>\n",
       "      <th>4</th>\n",
       "      <td>2018-02-21 01:18:49</td>\n",
       "      <td>Wed</td>\n",
       "      <td>HairBandRadio</td>\n",
       "      <td>#80sHairBands #NP: Tesla - Love Song LISTEN NO...</td>\n",
       "      <td>Share.Radionomy.com</td>\n",
       "      <td>Portland, OR</td>\n",
       "      <td>0</td>\n",
       "      <td>0</td>\n",
       "      <td>0</td>\n",
       "      <td>1208</td>\n",
       "      <td>142</td>\n",
       "      <td>3488</td>\n",
       "      <td>2018-02-21</td>\n",
       "      <td>0.6369</td>\n",
       "      <td>0.000</td>\n",
       "      <td>0.625</td>\n",
       "      <td>0.375</td>\n",
       "    </tr>\n",
       "    <tr>\n",
       "      <th>5</th>\n",
       "      <td>2018-02-21 01:18:50</td>\n",
       "      <td>Wed</td>\n",
       "      <td>ImRaunchePubis</td>\n",
       "      <td>#TrumpTrain #2A #elonmusk #tesla #WorldRecord ...</td>\n",
       "      <td>RauncePubis Digital Power</td>\n",
       "      <td>None</td>\n",
       "      <td>0</td>\n",
       "      <td>0</td>\n",
       "      <td>0</td>\n",
       "      <td>14</td>\n",
       "      <td>0</td>\n",
       "      <td>463</td>\n",
       "      <td>2018-02-21</td>\n",
       "      <td>0.0000</td>\n",
       "      <td>0.000</td>\n",
       "      <td>1.000</td>\n",
       "      <td>0.000</td>\n",
       "    </tr>\n",
       "    <tr>\n",
       "      <th>6</th>\n",
       "      <td>2018-02-21 01:18:52</td>\n",
       "      <td>Wed</td>\n",
       "      <td>p14nz</td>\n",
       "      <td>RT @hackerstorm: Cryptojacking scripts in Micr...</td>\n",
       "      <td>Twitter for iPhone</td>\n",
       "      <td>Bogor</td>\n",
       "      <td>0</td>\n",
       "      <td>0</td>\n",
       "      <td>0</td>\n",
       "      <td>35</td>\n",
       "      <td>66</td>\n",
       "      <td>9</td>\n",
       "      <td>2018-02-21</td>\n",
       "      <td>0.0000</td>\n",
       "      <td>0.000</td>\n",
       "      <td>1.000</td>\n",
       "      <td>0.000</td>\n",
       "    </tr>\n",
       "    <tr>\n",
       "      <th>7</th>\n",
       "      <td>2018-02-21 01:18:53</td>\n",
       "      <td>Wed</td>\n",
       "      <td>aneeshack4</td>\n",
       "      <td>So now with microsoft, while it’s usually posi...</td>\n",
       "      <td>Twitter for iPhone</td>\n",
       "      <td>Seattle, WA</td>\n",
       "      <td>0</td>\n",
       "      <td>0</td>\n",
       "      <td>0</td>\n",
       "      <td>594</td>\n",
       "      <td>768</td>\n",
       "      <td>15800</td>\n",
       "      <td>2018-02-21</td>\n",
       "      <td>-0.2960</td>\n",
       "      <td>0.220</td>\n",
       "      <td>0.644</td>\n",
       "      <td>0.136</td>\n",
       "    </tr>\n",
       "    <tr>\n",
       "      <th>8</th>\n",
       "      <td>2018-02-21 01:18:54</td>\n",
       "      <td>Wed</td>\n",
       "      <td>matthewshirts</td>\n",
       "      <td>Tesla vehicles now dominates luxury segment in...</td>\n",
       "      <td>Twitter Web Client</td>\n",
       "      <td>Brazil</td>\n",
       "      <td>0</td>\n",
       "      <td>0</td>\n",
       "      <td>0</td>\n",
       "      <td>7819</td>\n",
       "      <td>6592</td>\n",
       "      <td>32711</td>\n",
       "      <td>2018-02-21</td>\n",
       "      <td>0.1531</td>\n",
       "      <td>0.000</td>\n",
       "      <td>0.822</td>\n",
       "      <td>0.178</td>\n",
       "    </tr>\n",
       "    <tr>\n",
       "      <th>9</th>\n",
       "      <td>2018-02-21 01:18:53</td>\n",
       "      <td>Wed</td>\n",
       "      <td>startupcrunch</td>\n",
       "      <td>#startup Startup entrepreneurs get history les...</td>\n",
       "      <td>dlvr.it</td>\n",
       "      <td>Palo Alto, CA</td>\n",
       "      <td>0</td>\n",
       "      <td>0</td>\n",
       "      <td>0</td>\n",
       "      <td>31312</td>\n",
       "      <td>3617</td>\n",
       "      <td>9</td>\n",
       "      <td>2018-02-21</td>\n",
       "      <td>0.0000</td>\n",
       "      <td>0.000</td>\n",
       "      <td>1.000</td>\n",
       "      <td>0.000</td>\n",
       "    </tr>\n",
       "  </tbody>\n",
       "</table>\n",
       "</div>"
      ],
      "text/plain": [
       "           Created At  Day      Screen Name  \\\n",
       "0 2018-02-21 01:18:42  Wed    unbiasednreal   \n",
       "1 2018-02-21 01:18:45  Wed  Sanjanakhanna19   \n",
       "2 2018-02-21 01:18:46  Wed   ZephyrArcturus   \n",
       "3 2018-02-21 01:18:47  Wed          Adam_Ak   \n",
       "4 2018-02-21 01:18:49  Wed    HairBandRadio   \n",
       "5 2018-02-21 01:18:50  Wed   ImRaunchePubis   \n",
       "6 2018-02-21 01:18:52  Wed            p14nz   \n",
       "7 2018-02-21 01:18:53  Wed       aneeshack4   \n",
       "8 2018-02-21 01:18:54  Wed    matthewshirts   \n",
       "9 2018-02-21 01:18:53  Wed    startupcrunch   \n",
       "\n",
       "                                                Text  \\\n",
       "0  @Audi @BMWUSA @GEICO @McDonalds @HiltonHotels ...   \n",
       "1  RT @BradSmi: The people that come to the US to...   \n",
       "2  imaginez dans plusieurs centaines d'années qua...   \n",
       "3     RT @Shubzy_S: Bazinga! https://t.co/xOQ0Kz6NGX   \n",
       "4  #80sHairBands #NP: Tesla - Love Song LISTEN NO...   \n",
       "5  #TrumpTrain #2A #elonmusk #tesla #WorldRecord ...   \n",
       "6  RT @hackerstorm: Cryptojacking scripts in Micr...   \n",
       "7  So now with microsoft, while it’s usually posi...   \n",
       "8  Tesla vehicles now dominates luxury segment in...   \n",
       "9  #startup Startup entrepreneurs get history les...   \n",
       "\n",
       "                      Source                User Location  Retweet Count  \\\n",
       "0         Twitter for iPhone                         None              0   \n",
       "1         Twitter for iPhone                         None              0   \n",
       "2                  TweetDeck  destiny - ancient spaceship              0   \n",
       "3         Twitter for iPhone                         None              0   \n",
       "4        Share.Radionomy.com                 Portland, OR              0   \n",
       "5  RauncePubis Digital Power                         None              0   \n",
       "6         Twitter for iPhone                        Bogor              0   \n",
       "7         Twitter for iPhone                  Seattle, WA              0   \n",
       "8         Twitter Web Client                       Brazil              0   \n",
       "9                    dlvr.it                Palo Alto, CA              0   \n",
       "\n",
       "   Favourite Count  Reply Count  User Followers  User Friends  User Favorites  \\\n",
       "0                0            0               1             1               0   \n",
       "1                0            0               1            11             171   \n",
       "2                0            0             234           559           10427   \n",
       "3                0            0             602           328             624   \n",
       "4                0            0            1208           142            3488   \n",
       "5                0            0              14             0             463   \n",
       "6                0            0              35            66               9   \n",
       "7                0            0             594           768           15800   \n",
       "8                0            0            7819          6592           32711   \n",
       "9                0            0           31312          3617               9   \n",
       "\n",
       "    Date Only  compound    neg    neu    pos  \n",
       "0  2018-02-21    0.0000  0.000  1.000  0.000  \n",
       "1  2018-02-21    0.7506  0.000  0.748  0.252  \n",
       "2  2018-02-21   -0.1280  0.073  0.927  0.000  \n",
       "3  2018-02-21    0.0000  0.000  1.000  0.000  \n",
       "4  2018-02-21    0.6369  0.000  0.625  0.375  \n",
       "5  2018-02-21    0.0000  0.000  1.000  0.000  \n",
       "6  2018-02-21    0.0000  0.000  1.000  0.000  \n",
       "7  2018-02-21   -0.2960  0.220  0.644  0.136  \n",
       "8  2018-02-21    0.1531  0.000  0.822  0.178  \n",
       "9  2018-02-21    0.0000  0.000  1.000  0.000  "
      ]
     },
     "execution_count": 18,
     "metadata": {},
     "output_type": "execute_result"
    }
   ],
   "source": [
    "twvaderDF"
   ]
  },
  {
   "cell_type": "code",
   "execution_count": 19,
   "metadata": {},
   "outputs": [],
   "source": [
    "sentiment_scores = twvaderDF.groupby('Date Only')['compound'].apply(sum)"
   ]
  },
  {
   "cell_type": "code",
   "execution_count": 20,
   "metadata": {},
   "outputs": [],
   "source": [
    "sent_scores = pd.DataFrame(sentiment_scores)"
   ]
  },
  {
   "cell_type": "code",
   "execution_count": 22,
   "metadata": {},
   "outputs": [
    {
     "data": {
      "text/html": [
       "<div>\n",
       "<style>\n",
       "    .dataframe thead tr:only-child th {\n",
       "        text-align: right;\n",
       "    }\n",
       "\n",
       "    .dataframe thead th {\n",
       "        text-align: left;\n",
       "    }\n",
       "\n",
       "    .dataframe tbody tr th {\n",
       "        vertical-align: top;\n",
       "    }\n",
       "</style>\n",
       "<table border=\"1\" class=\"dataframe\">\n",
       "  <thead>\n",
       "    <tr style=\"text-align: right;\">\n",
       "      <th></th>\n",
       "      <th>compound</th>\n",
       "    </tr>\n",
       "    <tr>\n",
       "      <th>Date Only</th>\n",
       "      <th></th>\n",
       "    </tr>\n",
       "  </thead>\n",
       "  <tbody>\n",
       "    <tr>\n",
       "      <th>2018-02-21</th>\n",
       "      <td>1.1166</td>\n",
       "    </tr>\n",
       "  </tbody>\n",
       "</table>\n",
       "</div>"
      ],
      "text/plain": [
       "            compound\n",
       "Date Only           \n",
       "2018-02-21    1.1166"
      ]
     },
     "execution_count": 22,
     "metadata": {},
     "output_type": "execute_result"
    }
   ],
   "source": [
    "sent_scores"
   ]
  },
  {
   "cell_type": "code",
   "execution_count": null,
   "metadata": {
    "collapsed": true
   },
   "outputs": [],
   "source": []
  }
 ],
 "metadata": {
  "kernelspec": {
   "display_name": "Python 3",
   "language": "python",
   "name": "python3"
  },
  "language_info": {
   "codemirror_mode": {
    "name": "ipython",
    "version": 3
   },
   "file_extension": ".py",
   "mimetype": "text/x-python",
   "name": "python",
   "nbconvert_exporter": "python",
   "pygments_lexer": "ipython3",
   "version": "3.6.3"
  }
 },
 "nbformat": 4,
 "nbformat_minor": 2
}
