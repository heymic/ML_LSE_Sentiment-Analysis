{
 "cells": [
  {
   "cell_type": "code",
   "execution_count": 1,
   "metadata": {
    "collapsed": true
   },
   "outputs": [],
   "source": [
    "import pandas as pd\n",
    "import numpy as np\n",
    "import tweepy\n",
    "import json\n",
    "import matplotlib.pyplot as plt"
   ]
  },
  {
   "cell_type": "code",
   "execution_count": 2,
   "metadata": {
    "collapsed": true
   },
   "outputs": [],
   "source": [
    "import time\n",
    "from tweepy import OAuthHandler"
   ]
  },
  {
   "cell_type": "code",
   "execution_count": 131,
   "metadata": {
    "collapsed": true
   },
   "outputs": [],
   "source": [
    "import datetime"
   ]
  },
  {
   "cell_type": "code",
   "execution_count": 3,
   "metadata": {
    "collapsed": true
   },
   "outputs": [],
   "source": [
    "ckey = 'OWea1JDj2RMgv9ktXcKkM3CRI'\n",
    "csecret = 'zolroSpEUpqFrTABaVHttXDYrKAIWBBGPpFjXZ5j4r201obVWq'\n",
    "atoken = '927171157018759173-tqtWOcZMkWsnCvUToWsR3W0qSp64jwm'\n",
    "asecret = 'qMvXFuUpsnZD3b2TB1O49aGLSU6p607hDBnzkaYCdJWxR'"
   ]
  },
  {
   "cell_type": "code",
   "execution_count": 4,
   "metadata": {},
   "outputs": [],
   "source": [
    "auth = OAuthHandler(ckey, csecret)\n",
    "auth.set_access_token(atoken, asecret)"
   ]
  },
  {
   "cell_type": "code",
   "execution_count": 5,
   "metadata": {},
   "outputs": [],
   "source": [
    "api = tweepy.API(auth)"
   ]
  },
  {
   "cell_type": "markdown",
   "metadata": {},
   "source": [
    "### Create Functions to Get Tweets"
   ]
  },
  {
   "cell_type": "code",
   "execution_count": 14,
   "metadata": {
    "collapsed": true
   },
   "outputs": [],
   "source": [
    "def get_tweets(query, maxtweets):\n",
    "    outtweets = [[time.strftime('%Y-%m-%d %H:%M:%S', time.strptime(tweet._json['created_at'],'%a %b %d %H:%M:%S +0000 %Y')),\n",
    "                  tweet._json['created_at'][0:3], \n",
    "                  tweet._json[\"user\"][\"screen_name\"], \n",
    "                  tweet._json[\"text\"],\n",
    "                  tweet._json[\"source\"].split(\"\\u003e\")[1].split(\"</a\\u003c\\/a\\u003e\")[0][:-3], \n",
    "                  tweet._json['user']['location'],\n",
    "                  tweet._json[\"retweet_count\"],\n",
    "                  tweet._json['favorite_count'],\n",
    "                  tweet._json['user']['followers_count'],\n",
    "                  tweet._json['user']['friends_count'],\n",
    "                  tweet._json['user']['favourites_count']] for tweet in tweepy.Cursor(api.search, q=query,lang = \"en\", rpp=100).items(maxtweets)]\n",
    "    return outtweets"
   ]
  },
  {
   "cell_type": "code",
   "execution_count": 26,
   "metadata": {
    "collapsed": true
   },
   "outputs": [],
   "source": [
    "def get_all_tweets(queries, maxtweets):\n",
    "    tweets = []\n",
    "    for query in queries:\n",
    "        tweets = tweets + get_tweets(query, maxtweets)\n",
    "    return tweets"
   ]
  },
  {
   "cell_type": "code",
   "execution_count": 125,
   "metadata": {
    "collapsed": true
   },
   "outputs": [],
   "source": [
    "def getDF(tweets):\n",
    "    columns = ['Created At', 'Day', 'Screen Name', 'Text', 'Source', 'User Location', 'Retweet Count', 'Favourite Count', 'User Followers', 'User Friends', 'User Favorites']\n",
    "    twDF = pd.DataFrame(tweets, columns=columns)\n",
    "    twDF['Created At'] = pd.to_datetime(twDF['Created At'])\n",
    "    twDF['Date Only'] = pd.to_datetime(twDF['Created At'].dt.date)\n",
    "    return twDF"
   ]
  },
  {
   "cell_type": "markdown",
   "metadata": {},
   "source": [
    "### Generate Targets"
   ]
  },
  {
   "cell_type": "code",
   "execution_count": 64,
   "metadata": {
    "collapsed": true
   },
   "outputs": [],
   "source": [
    "#input user targets (screenames) and keywords \n",
    "human_targets = ['bankofengland', 'MarketWatch', 'stockstobuy']\n",
    "keywords = ['snp500', 'interest rate', 'shares', 'snapchat']"
   ]
  },
  {
   "cell_type": "code",
   "execution_count": 65,
   "metadata": {},
   "outputs": [],
   "source": [
    "#creates query to extract any tweet containing the keyword by each user specified\n",
    "def gen_queries(human_targets, keywords):\n",
    "    user_targets = ['from:' + target for  target in human_targets]\n",
    "    queries = [word + ', ' + user for word in keywords for user in user_targets]\n",
    "    return queries"
   ]
  },
  {
   "cell_type": "code",
   "execution_count": 66,
   "metadata": {},
   "outputs": [
    {
     "data": {
      "text/plain": [
       "['snp500, from:bankofengland',\n",
       " 'snp500, from:MarketWatch',\n",
       " 'snp500, from:stockstobuy',\n",
       " 'interest rate, from:bankofengland',\n",
       " 'interest rate, from:MarketWatch',\n",
       " 'interest rate, from:stockstobuy',\n",
       " 'shares, from:bankofengland',\n",
       " 'shares, from:MarketWatch',\n",
       " 'shares, from:stockstobuy',\n",
       " 'snapchat, from:bankofengland',\n",
       " 'snapchat, from:MarketWatch',\n",
       " 'snapchat, from:stockstobuy']"
      ]
     },
     "execution_count": 66,
     "metadata": {},
     "output_type": "execute_result"
    }
   ],
   "source": [
    "#list of queries\n",
    "queries = gen_queries(human_targets, keywords)\n",
    "queries"
   ]
  },
  {
   "cell_type": "code",
   "execution_count": 68,
   "metadata": {
    "collapsed": true
   },
   "outputs": [
    {
     "data": {
      "text/plain": [
       "[['2018-02-26 13:42:02',\n",
       "  'Mon',\n",
       "  'MarketWatch',\n",
       "  'Fed’s Bullard says low U.S. ‘neutral’ interest rate unlikely to rise over next 2 years https://t.co/7PjbjY8HWe',\n",
       "  'SocialFlow',\n",
       "  '',\n",
       "  19,\n",
       "  11,\n",
       "  3579666,\n",
       "  188,\n",
       "  2638],\n",
       " ['2018-02-24 10:01:47',\n",
       "  'Sat',\n",
       "  'MarketWatch',\n",
       "  'The Fed gave little hint in its latest report to Congress that it’s prepared to raise U.S. interest rates more aggr… https://t.co/0nOglv1Jd6',\n",
       "  'SocialFlow',\n",
       "  '',\n",
       "  12,\n",
       "  13,\n",
       "  3579666,\n",
       "  188,\n",
       "  2638],\n",
       " ['2018-02-23 20:18:45',\n",
       "  'Fri',\n",
       "  'MarketWatch',\n",
       "  'Dow jumps 250 points as stock market rises near intraday peaks https://t.co/MWqO5wtO7c',\n",
       "  'MarketWatch',\n",
       "  '',\n",
       "  4,\n",
       "  11,\n",
       "  3579666,\n",
       "  188,\n",
       "  2638],\n",
       " ['2018-02-23 17:27:04',\n",
       "  'Fri',\n",
       "  'MarketWatch',\n",
       "  'U.S. stocks look set to end an up-and-down stretch of trade on a high note https://t.co/gQNW0jUGo2 https://t.co/oA6YO8739o',\n",
       "  'SocialFlow',\n",
       "  '',\n",
       "  7,\n",
       "  12,\n",
       "  3579666,\n",
       "  188,\n",
       "  2638],\n",
       " ['2018-02-23 16:58:17',\n",
       "  'Fri',\n",
       "  'MarketWatch',\n",
       "  'Stocks add to gains as Fed report eases concern about four 2018 rate hikes https://t.co/UGWb598FNa',\n",
       "  'MarketWatch',\n",
       "  '',\n",
       "  23,\n",
       "  25,\n",
       "  3579666,\n",
       "  188,\n",
       "  2638],\n",
       " ['2018-03-01 15:16:14',\n",
       "  'Thu',\n",
       "  'MarketWatch',\n",
       "  'Overstock shares sink after subsidiary discloses SEC probe https://t.co/sewQ2bKn7N',\n",
       "  'MarketWatch',\n",
       "  '',\n",
       "  2,\n",
       "  1,\n",
       "  3579666,\n",
       "  188,\n",
       "  2638],\n",
       " ['2018-02-28 21:19:07',\n",
       "  'Wed',\n",
       "  'MarketWatch',\n",
       "  'Box shares drop more than 10% after earnings https://t.co/qG6a3PsR6f',\n",
       "  'MarketWatch',\n",
       "  '',\n",
       "  0,\n",
       "  0,\n",
       "  3579666,\n",
       "  188,\n",
       "  2638],\n",
       " ['2018-02-28 19:02:52',\n",
       "  'Wed',\n",
       "  'MarketWatch',\n",
       "  'RT @emilybary: Square shares may not be moving much, but at least 15 analysts raised their price targets following the results. $SQ https:/…',\n",
       "  'TweetDeck',\n",
       "  '',\n",
       "  2,\n",
       "  0,\n",
       "  3579666,\n",
       "  188,\n",
       "  2638],\n",
       " ['2018-02-28 14:01:13',\n",
       "  'Wed',\n",
       "  'MarketWatch',\n",
       "  \"Shares of T.J. Maxx and Marshall's parent TJX rally in premarket https://t.co/ooG9JFrFCk\",\n",
       "  'MarketWatch',\n",
       "  '',\n",
       "  3,\n",
       "  5,\n",
       "  3579666,\n",
       "  188,\n",
       "  2638],\n",
       " ['2018-02-28 12:24:12',\n",
       "  'Wed',\n",
       "  'MarketWatch',\n",
       "  'Valeant shares drop 3.5% after Q4 revenue miss, downbeat 2018 guidance https://t.co/vHq7s1hqrr',\n",
       "  'MarketWatch',\n",
       "  '',\n",
       "  4,\n",
       "  5,\n",
       "  3579666,\n",
       "  188,\n",
       "  2638],\n",
       " ['2018-02-28 13:35:25',\n",
       "  'Wed',\n",
       "  'stockstobuy',\n",
       "  'Etsy $ETSY shares rally on earnings, outlook beat - https://t.co/4uCB8keZ8i',\n",
       "  'Twitter Web Client',\n",
       "  'Southeast Pennsylvania',\n",
       "  0,\n",
       "  3,\n",
       "  25577,\n",
       "  9,\n",
       "  2047],\n",
       " ['2018-02-23 13:43:34',\n",
       "  'Fri',\n",
       "  'stockstobuy',\n",
       "  'The Trade Desk $TTD tops 4Q revenue forecasts, shares up 15% https://t.co/0LKJ7GAGjJ',\n",
       "  'Twitter Web Client',\n",
       "  'Southeast Pennsylvania',\n",
       "  0,\n",
       "  1,\n",
       "  25577,\n",
       "  9,\n",
       "  2047],\n",
       " ['2018-02-22 13:44:32',\n",
       "  'Thu',\n",
       "  'stockstobuy',\n",
       "  'https://t.co/YCZZeitdqe $STMP beats Street 4Q forecasts, shares jump 12% https://t.co/g9wAJx0XQs',\n",
       "  'Twitter Web Client',\n",
       "  'Southeast Pennsylvania',\n",
       "  0,\n",
       "  1,\n",
       "  25577,\n",
       "  9,\n",
       "  2047],\n",
       " ['2018-02-23 18:27:16',\n",
       "  'Fri',\n",
       "  'MarketWatch',\n",
       "  'Snapchat stock dropped 6% after Kylie Jenner said she’s stopped using Snapchat. But can you really associate the st… https://t.co/iIpa5BeuSX',\n",
       "  'SocialFlow',\n",
       "  '',\n",
       "  6,\n",
       "  8,\n",
       "  3579666,\n",
       "  188,\n",
       "  2638]]"
      ]
     },
     "execution_count": 68,
     "metadata": {},
     "output_type": "execute_result"
    }
   ],
   "source": [
    "tweets = get_all_tweets(queries, 5)\n",
    "tweets"
   ]
  },
  {
   "cell_type": "code",
   "execution_count": 126,
   "metadata": {},
   "outputs": [],
   "source": [
    "data = getDF(tweets)"
   ]
  },
  {
   "cell_type": "markdown",
   "metadata": {},
   "source": [
    "### Sentiment Analysis"
   ]
  },
  {
   "cell_type": "code",
   "execution_count": 75,
   "metadata": {},
   "outputs": [],
   "source": [
    "from textblob import TextBlob\n",
    "import re\n",
    "\n",
    "def clean_tweet(tweet):\n",
    "    '''\n",
    "    Utility function to clean the text in a tweet by removing \n",
    "    links and special characters using regex.\n",
    "    '''\n",
    "    return ' '.join(re.sub(\"(@[A-Za-z0-9]+)|([^0-9A-Za-z \\t])|(\\w+:\\/\\/\\S+)\", \" \", tweet).split())\n",
    "\n",
    "def analyze_sentiment(tweet):\n",
    "    '''\n",
    "    Utility function to classify the polarity of a tweet\n",
    "    using textblob.\n",
    "    '''\n",
    "    analysis = TextBlob(clean_tweet(tweet))\n",
    "    return analysis.sentiment.polarity"
   ]
  },
  {
   "cell_type": "code",
   "execution_count": 127,
   "metadata": {},
   "outputs": [
    {
     "data": {
      "text/html": [
       "<div>\n",
       "<style>\n",
       "    .dataframe thead tr:only-child th {\n",
       "        text-align: right;\n",
       "    }\n",
       "\n",
       "    .dataframe thead th {\n",
       "        text-align: left;\n",
       "    }\n",
       "\n",
       "    .dataframe tbody tr th {\n",
       "        vertical-align: top;\n",
       "    }\n",
       "</style>\n",
       "<table border=\"1\" class=\"dataframe\">\n",
       "  <thead>\n",
       "    <tr style=\"text-align: right;\">\n",
       "      <th></th>\n",
       "      <th>Created At</th>\n",
       "      <th>Day</th>\n",
       "      <th>Screen Name</th>\n",
       "      <th>Text</th>\n",
       "      <th>Source</th>\n",
       "      <th>User Location</th>\n",
       "      <th>Retweet Count</th>\n",
       "      <th>Favourite Count</th>\n",
       "      <th>User Followers</th>\n",
       "      <th>User Friends</th>\n",
       "      <th>User Favorites</th>\n",
       "      <th>Date Only</th>\n",
       "      <th>SA</th>\n",
       "    </tr>\n",
       "  </thead>\n",
       "  <tbody>\n",
       "    <tr>\n",
       "      <th>0</th>\n",
       "      <td>2018-02-26 13:42:02</td>\n",
       "      <td>Mon</td>\n",
       "      <td>MarketWatch</td>\n",
       "      <td>Fed’s Bullard says low U.S. ‘neutral’ interest...</td>\n",
       "      <td>SocialFlow</td>\n",
       "      <td></td>\n",
       "      <td>19</td>\n",
       "      <td>11</td>\n",
       "      <td>3579666</td>\n",
       "      <td>188</td>\n",
       "      <td>2638</td>\n",
       "      <td>2018-02-26</td>\n",
       "      <td>-0.166667</td>\n",
       "    </tr>\n",
       "    <tr>\n",
       "      <th>1</th>\n",
       "      <td>2018-02-24 10:01:47</td>\n",
       "      <td>Sat</td>\n",
       "      <td>MarketWatch</td>\n",
       "      <td>The Fed gave little hint in its latest report ...</td>\n",
       "      <td>SocialFlow</td>\n",
       "      <td></td>\n",
       "      <td>12</td>\n",
       "      <td>13</td>\n",
       "      <td>3579666</td>\n",
       "      <td>188</td>\n",
       "      <td>2638</td>\n",
       "      <td>2018-02-24</td>\n",
       "      <td>0.270833</td>\n",
       "    </tr>\n",
       "    <tr>\n",
       "      <th>2</th>\n",
       "      <td>2018-02-23 20:18:45</td>\n",
       "      <td>Fri</td>\n",
       "      <td>MarketWatch</td>\n",
       "      <td>Dow jumps 250 points as stock market rises nea...</td>\n",
       "      <td>MarketWatch</td>\n",
       "      <td></td>\n",
       "      <td>4</td>\n",
       "      <td>11</td>\n",
       "      <td>3579666</td>\n",
       "      <td>188</td>\n",
       "      <td>2638</td>\n",
       "      <td>2018-02-23</td>\n",
       "      <td>0.100000</td>\n",
       "    </tr>\n",
       "    <tr>\n",
       "      <th>3</th>\n",
       "      <td>2018-02-23 17:27:04</td>\n",
       "      <td>Fri</td>\n",
       "      <td>MarketWatch</td>\n",
       "      <td>U.S. stocks look set to end an up-and-down str...</td>\n",
       "      <td>SocialFlow</td>\n",
       "      <td></td>\n",
       "      <td>7</td>\n",
       "      <td>12</td>\n",
       "      <td>3579666</td>\n",
       "      <td>188</td>\n",
       "      <td>2638</td>\n",
       "      <td>2018-02-23</td>\n",
       "      <td>0.002222</td>\n",
       "    </tr>\n",
       "    <tr>\n",
       "      <th>4</th>\n",
       "      <td>2018-02-23 16:58:17</td>\n",
       "      <td>Fri</td>\n",
       "      <td>MarketWatch</td>\n",
       "      <td>Stocks add to gains as Fed report eases concer...</td>\n",
       "      <td>MarketWatch</td>\n",
       "      <td></td>\n",
       "      <td>23</td>\n",
       "      <td>25</td>\n",
       "      <td>3579666</td>\n",
       "      <td>188</td>\n",
       "      <td>2638</td>\n",
       "      <td>2018-02-23</td>\n",
       "      <td>0.000000</td>\n",
       "    </tr>\n",
       "    <tr>\n",
       "      <th>5</th>\n",
       "      <td>2018-03-01 15:16:14</td>\n",
       "      <td>Thu</td>\n",
       "      <td>MarketWatch</td>\n",
       "      <td>Overstock shares sink after subsidiary disclos...</td>\n",
       "      <td>MarketWatch</td>\n",
       "      <td></td>\n",
       "      <td>2</td>\n",
       "      <td>1</td>\n",
       "      <td>3579666</td>\n",
       "      <td>188</td>\n",
       "      <td>2638</td>\n",
       "      <td>2018-03-01</td>\n",
       "      <td>-0.100000</td>\n",
       "    </tr>\n",
       "    <tr>\n",
       "      <th>6</th>\n",
       "      <td>2018-02-28 21:19:07</td>\n",
       "      <td>Wed</td>\n",
       "      <td>MarketWatch</td>\n",
       "      <td>Box shares drop more than 10% after earnings h...</td>\n",
       "      <td>MarketWatch</td>\n",
       "      <td></td>\n",
       "      <td>0</td>\n",
       "      <td>0</td>\n",
       "      <td>3579666</td>\n",
       "      <td>188</td>\n",
       "      <td>2638</td>\n",
       "      <td>2018-02-28</td>\n",
       "      <td>0.500000</td>\n",
       "    </tr>\n",
       "    <tr>\n",
       "      <th>7</th>\n",
       "      <td>2018-02-28 19:02:52</td>\n",
       "      <td>Wed</td>\n",
       "      <td>MarketWatch</td>\n",
       "      <td>RT @emilybary: Square shares may not be moving...</td>\n",
       "      <td>TweetDeck</td>\n",
       "      <td></td>\n",
       "      <td>2</td>\n",
       "      <td>0</td>\n",
       "      <td>3579666</td>\n",
       "      <td>188</td>\n",
       "      <td>2638</td>\n",
       "      <td>2018-02-28</td>\n",
       "      <td>-0.033333</td>\n",
       "    </tr>\n",
       "    <tr>\n",
       "      <th>8</th>\n",
       "      <td>2018-02-28 14:01:13</td>\n",
       "      <td>Wed</td>\n",
       "      <td>MarketWatch</td>\n",
       "      <td>Shares of T.J. Maxx and Marshall's parent TJX ...</td>\n",
       "      <td>MarketWatch</td>\n",
       "      <td></td>\n",
       "      <td>3</td>\n",
       "      <td>5</td>\n",
       "      <td>3579666</td>\n",
       "      <td>188</td>\n",
       "      <td>2638</td>\n",
       "      <td>2018-02-28</td>\n",
       "      <td>0.000000</td>\n",
       "    </tr>\n",
       "    <tr>\n",
       "      <th>9</th>\n",
       "      <td>2018-02-28 12:24:12</td>\n",
       "      <td>Wed</td>\n",
       "      <td>MarketWatch</td>\n",
       "      <td>Valeant shares drop 3.5% after Q4 revenue miss...</td>\n",
       "      <td>MarketWatch</td>\n",
       "      <td></td>\n",
       "      <td>4</td>\n",
       "      <td>5</td>\n",
       "      <td>3579666</td>\n",
       "      <td>188</td>\n",
       "      <td>2638</td>\n",
       "      <td>2018-02-28</td>\n",
       "      <td>0.000000</td>\n",
       "    </tr>\n",
       "  </tbody>\n",
       "</table>\n",
       "</div>"
      ],
      "text/plain": [
       "           Created At  Day  Screen Name  \\\n",
       "0 2018-02-26 13:42:02  Mon  MarketWatch   \n",
       "1 2018-02-24 10:01:47  Sat  MarketWatch   \n",
       "2 2018-02-23 20:18:45  Fri  MarketWatch   \n",
       "3 2018-02-23 17:27:04  Fri  MarketWatch   \n",
       "4 2018-02-23 16:58:17  Fri  MarketWatch   \n",
       "5 2018-03-01 15:16:14  Thu  MarketWatch   \n",
       "6 2018-02-28 21:19:07  Wed  MarketWatch   \n",
       "7 2018-02-28 19:02:52  Wed  MarketWatch   \n",
       "8 2018-02-28 14:01:13  Wed  MarketWatch   \n",
       "9 2018-02-28 12:24:12  Wed  MarketWatch   \n",
       "\n",
       "                                                Text       Source  \\\n",
       "0  Fed’s Bullard says low U.S. ‘neutral’ interest...   SocialFlow   \n",
       "1  The Fed gave little hint in its latest report ...   SocialFlow   \n",
       "2  Dow jumps 250 points as stock market rises nea...  MarketWatch   \n",
       "3  U.S. stocks look set to end an up-and-down str...   SocialFlow   \n",
       "4  Stocks add to gains as Fed report eases concer...  MarketWatch   \n",
       "5  Overstock shares sink after subsidiary disclos...  MarketWatch   \n",
       "6  Box shares drop more than 10% after earnings h...  MarketWatch   \n",
       "7  RT @emilybary: Square shares may not be moving...    TweetDeck   \n",
       "8  Shares of T.J. Maxx and Marshall's parent TJX ...  MarketWatch   \n",
       "9  Valeant shares drop 3.5% after Q4 revenue miss...  MarketWatch   \n",
       "\n",
       "  User Location  Retweet Count  Favourite Count  User Followers  User Friends  \\\n",
       "0                           19               11         3579666           188   \n",
       "1                           12               13         3579666           188   \n",
       "2                            4               11         3579666           188   \n",
       "3                            7               12         3579666           188   \n",
       "4                           23               25         3579666           188   \n",
       "5                            2                1         3579666           188   \n",
       "6                            0                0         3579666           188   \n",
       "7                            2                0         3579666           188   \n",
       "8                            3                5         3579666           188   \n",
       "9                            4                5         3579666           188   \n",
       "\n",
       "   User Favorites  Date Only        SA  \n",
       "0            2638 2018-02-26 -0.166667  \n",
       "1            2638 2018-02-24  0.270833  \n",
       "2            2638 2018-02-23  0.100000  \n",
       "3            2638 2018-02-23  0.002222  \n",
       "4            2638 2018-02-23  0.000000  \n",
       "5            2638 2018-03-01 -0.100000  \n",
       "6            2638 2018-02-28  0.500000  \n",
       "7            2638 2018-02-28 -0.033333  \n",
       "8            2638 2018-02-28  0.000000  \n",
       "9            2638 2018-02-28  0.000000  "
      ]
     },
     "metadata": {},
     "output_type": "display_data"
    }
   ],
   "source": [
    "# We create a column with the result of the analysis:\n",
    "data['SA'] = np.array([analyze_sentiment(tweet) for tweet in data['Text'] ])\n",
    "\n",
    "# We display the updated dataframe with the new column:\n",
    "display(data.head(10))"
   ]
  },
  {
   "cell_type": "markdown",
   "metadata": {},
   "source": [
    "### Weighting and Grouping"
   ]
  },
  {
   "cell_type": "code",
   "execution_count": 128,
   "metadata": {
    "scrolled": true
   },
   "outputs": [],
   "source": [
    "# Calculate weights (simple average of retweet counts and favourite counts)\n",
    "df= data[['Date Only', 'SA', 'Retweet Count', 'Favourite Count']]\n",
    "vect = np.array(df[\"Retweet Count\"])\n",
    "vect2 = np.array(df[\"Favourite Count\"])\n",
    "weights = np.array((vect+vect2)/2)\n",
    "SA = np.array(df[\"SA\"])"
   ]
  },
  {
   "cell_type": "code",
   "execution_count": 143,
   "metadata": {
    "scrolled": false
   },
   "outputs": [
    {
     "name": "stderr",
     "output_type": "stream",
     "text": [
      "C:\\Users\\Yi Ying Tan\\Anaconda3\\lib\\site-packages\\ipykernel_launcher.py:2: SettingWithCopyWarning: \n",
      "A value is trying to be set on a copy of a slice from a DataFrame.\n",
      "Try using .loc[row_indexer,col_indexer] = value instead\n",
      "\n",
      "See the caveats in the documentation: http://pandas.pydata.org/pandas-docs/stable/indexing.html#indexing-view-versus-copy\n",
      "  \n"
     ]
    }
   ],
   "source": [
    "# Obtain weighted scores\n",
    "df[\"weightedSA\"] = np.array(SA*weights)"
   ]
  },
  {
   "cell_type": "code",
   "execution_count": 144,
   "metadata": {
    "scrolled": true
   },
   "outputs": [
    {
     "name": "stderr",
     "output_type": "stream",
     "text": [
      "C:\\Users\\Yi Ying Tan\\Anaconda3\\lib\\site-packages\\ipykernel_launcher.py:2: SettingWithCopyWarning: \n",
      "A value is trying to be set on a copy of a slice from a DataFrame.\n",
      "Try using .loc[row_indexer,col_indexer] = value instead\n",
      "\n",
      "See the caveats in the documentation: http://pandas.pydata.org/pandas-docs/stable/indexing.html#indexing-view-versus-copy\n",
      "  \n"
     ]
    },
    {
     "data": {
      "text/html": [
       "<div>\n",
       "<style>\n",
       "    .dataframe thead tr:only-child th {\n",
       "        text-align: right;\n",
       "    }\n",
       "\n",
       "    .dataframe thead th {\n",
       "        text-align: left;\n",
       "    }\n",
       "\n",
       "    .dataframe tbody tr th {\n",
       "        vertical-align: top;\n",
       "    }\n",
       "</style>\n",
       "<table border=\"1\" class=\"dataframe\">\n",
       "  <thead>\n",
       "    <tr style=\"text-align: right;\">\n",
       "      <th></th>\n",
       "      <th>Date Only</th>\n",
       "      <th>weightedSum</th>\n",
       "    </tr>\n",
       "  </thead>\n",
       "  <tbody>\n",
       "    <tr>\n",
       "      <th>0</th>\n",
       "      <td>2018-02-26</td>\n",
       "      <td>-2.500000</td>\n",
       "    </tr>\n",
       "    <tr>\n",
       "      <th>1</th>\n",
       "      <td>2018-02-24</td>\n",
       "      <td>3.385417</td>\n",
       "    </tr>\n",
       "    <tr>\n",
       "      <th>2</th>\n",
       "      <td>2018-02-23</td>\n",
       "      <td>2.171111</td>\n",
       "    </tr>\n",
       "    <tr>\n",
       "      <th>5</th>\n",
       "      <td>2018-03-01</td>\n",
       "      <td>-0.150000</td>\n",
       "    </tr>\n",
       "    <tr>\n",
       "      <th>6</th>\n",
       "      <td>2018-02-28</td>\n",
       "      <td>-0.033333</td>\n",
       "    </tr>\n",
       "    <tr>\n",
       "      <th>12</th>\n",
       "      <td>2018-02-22</td>\n",
       "      <td>0.000000</td>\n",
       "    </tr>\n",
       "  </tbody>\n",
       "</table>\n",
       "</div>"
      ],
      "text/plain": [
       "    Date Only  weightedSum\n",
       "0  2018-02-26    -2.500000\n",
       "1  2018-02-24     3.385417\n",
       "2  2018-02-23     2.171111\n",
       "5  2018-03-01    -0.150000\n",
       "6  2018-02-28    -0.033333\n",
       "12 2018-02-22     0.000000"
      ]
     },
     "execution_count": 144,
     "metadata": {},
     "output_type": "execute_result"
    }
   ],
   "source": [
    "#Obtain aggregate\n",
    "df[\"weightedSum\"] = df.groupby('Date Only')[\"weightedSA\"].transform('sum')\n",
    "df2 = df[['Date Only', 'weightedSum']].drop_duplicates()\n",
    "df2"
   ]
  },
  {
   "cell_type": "code",
   "execution_count": 145,
   "metadata": {},
   "outputs": [
    {
     "data": {
      "text/html": [
       "<div>\n",
       "<style>\n",
       "    .dataframe thead tr:only-child th {\n",
       "        text-align: right;\n",
       "    }\n",
       "\n",
       "    .dataframe thead th {\n",
       "        text-align: left;\n",
       "    }\n",
       "\n",
       "    .dataframe tbody tr th {\n",
       "        vertical-align: top;\n",
       "    }\n",
       "</style>\n",
       "<table border=\"1\" class=\"dataframe\">\n",
       "  <thead>\n",
       "    <tr style=\"text-align: right;\">\n",
       "      <th></th>\n",
       "      <th>Date Only</th>\n",
       "      <th>weightedSum</th>\n",
       "      <th>day</th>\n",
       "      <th>iswknd</th>\n",
       "    </tr>\n",
       "  </thead>\n",
       "  <tbody>\n",
       "    <tr>\n",
       "      <th>0</th>\n",
       "      <td>2018-02-26</td>\n",
       "      <td>-2.500000</td>\n",
       "      <td>0</td>\n",
       "      <td>0</td>\n",
       "    </tr>\n",
       "    <tr>\n",
       "      <th>1</th>\n",
       "      <td>2018-02-24</td>\n",
       "      <td>3.385417</td>\n",
       "      <td>5</td>\n",
       "      <td>1</td>\n",
       "    </tr>\n",
       "    <tr>\n",
       "      <th>2</th>\n",
       "      <td>2018-02-23</td>\n",
       "      <td>2.171111</td>\n",
       "      <td>4</td>\n",
       "      <td>1</td>\n",
       "    </tr>\n",
       "    <tr>\n",
       "      <th>5</th>\n",
       "      <td>2018-03-01</td>\n",
       "      <td>-0.150000</td>\n",
       "      <td>3</td>\n",
       "      <td>0</td>\n",
       "    </tr>\n",
       "    <tr>\n",
       "      <th>6</th>\n",
       "      <td>2018-02-28</td>\n",
       "      <td>-0.033333</td>\n",
       "      <td>2</td>\n",
       "      <td>0</td>\n",
       "    </tr>\n",
       "    <tr>\n",
       "      <th>12</th>\n",
       "      <td>2018-02-22</td>\n",
       "      <td>0.000000</td>\n",
       "      <td>3</td>\n",
       "      <td>0</td>\n",
       "    </tr>\n",
       "  </tbody>\n",
       "</table>\n",
       "</div>"
      ],
      "text/plain": [
       "    Date Only  weightedSum day  iswknd\n",
       "0  2018-02-26    -2.500000   0       0\n",
       "1  2018-02-24     3.385417   5       1\n",
       "2  2018-02-23     2.171111   4       1\n",
       "5  2018-03-01    -0.150000   3       0\n",
       "6  2018-02-28    -0.033333   2       0\n",
       "12 2018-02-22     0.000000   3       0"
      ]
     },
     "execution_count": 145,
     "metadata": {},
     "output_type": "execute_result"
    }
   ],
   "source": [
    "#Mark weekends\n",
    "df2['day'] = np.array([str(date.weekday()) for date in df2['Date Only']])\n",
    "df2['iswknd'] = np.array([int(int(day)>=4) for day in df2['day']])\n",
    "df2\n",
    "#0 is monday, 6 is sunday"
   ]
  },
  {
   "cell_type": "code",
   "execution_count": 50,
   "metadata": {},
   "outputs": [],
   "source": [
    "#hashtags = ['#guns since:2018-02-14', '#maga']"
   ]
  },
  {
   "cell_type": "code",
   "execution_count": 67,
   "metadata": {
    "collapsed": true
   },
   "outputs": [],
   "source": [
    "#targets = [hashtags]"
   ]
  }
 ],
 "metadata": {
  "kernelspec": {
   "display_name": "Python 3",
   "language": "python",
   "name": "python3"
  },
  "language_info": {
   "codemirror_mode": {
    "name": "ipython",
    "version": 3
   },
   "file_extension": ".py",
   "mimetype": "text/x-python",
   "name": "python",
   "nbconvert_exporter": "python",
   "pygments_lexer": "ipython3",
   "version": "3.6.3"
  }
 },
 "nbformat": 4,
 "nbformat_minor": 2
}
